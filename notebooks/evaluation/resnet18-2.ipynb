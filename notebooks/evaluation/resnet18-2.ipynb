{
 "cells": [
  {
   "cell_type": "code",
   "execution_count": 2,
   "id": "initial_id",
   "metadata": {
    "collapsed": true,
    "ExecuteTime": {
     "end_time": "2024-03-16T00:46:26.794617Z",
     "start_time": "2024-03-16T00:46:23.481293Z"
    }
   },
   "outputs": [],
   "source": [
    "import sys\n",
    "import os\n",
    "sys.path.append('../..')\n",
    "import torch\n",
    "import torchvision\n",
    "from src.models import ResNet18\n",
    "from src.transforms import ImageResizer,make_patches\n",
    "import matplotlib.pyplot as plt\n",
    "import pandas as pd\n",
    "from torchsummary import summary"
   ]
  },
  {
   "cell_type": "code",
   "outputs": [],
   "source": [
    "model = ResNet18(n_classes=3)"
   ],
   "metadata": {
    "collapsed": false,
    "ExecuteTime": {
     "end_time": "2024-03-16T00:46:27.058528Z",
     "start_time": "2024-03-16T00:46:26.796045Z"
    }
   },
   "id": "1ea00c72e014c95d",
   "execution_count": 3
  },
  {
   "cell_type": "code",
   "outputs": [],
   "source": [
    "# dataloader = torchvision.datasets.ImageFolder()"
   ],
   "metadata": {
    "collapsed": false,
    "ExecuteTime": {
     "end_time": "2024-03-16T00:46:27.061720Z",
     "start_time": "2024-03-16T00:46:27.059334Z"
    }
   },
   "id": "bd14fd2c761f955c",
   "execution_count": 4
  },
  {
   "cell_type": "code",
   "outputs": [],
   "source": [
    "def predict(model, dataloader):\n",
    "    device = torch.device(\"cuda\" if torch.cuda.is_available() else \"cpu\")\n",
    "    model.eval()\n",
    "    predictions = []\n",
    "\n",
    "    with torch.no_grad():\n",
    "        for patch in dataloader:\n",
    "            patch = patch.to(device)\n",
    "            outputs = model(patch)\n",
    "            _, preds = torch.max(outputs, 1)\n",
    "            predictions.extend(preds.cpu().numpy())\n",
    "\n",
    "    return predictions"
   ],
   "metadata": {
    "collapsed": false,
    "ExecuteTime": {
     "end_time": "2024-03-16T00:46:38.050089Z",
     "start_time": "2024-03-16T00:46:38.046541Z"
    }
   },
   "id": "aed7cf2c6ee91151",
   "execution_count": 5
  },
  {
   "cell_type": "code",
   "outputs": [],
   "source": [
    "def vote(voting_type, predictions, classes_weights=None):\n",
    "    if classes_weights is None:\n",
    "        classes_weights = [0, 0, 0]\n",
    "    if voting_type == \"soft\":\n",
    "        return torch.argmax(torch.mean(predictions, dim=0))\n",
    "    elif voting_type == \"hard\":\n",
    "        one_hot_predictions = torch.zeros_like(predictions)\n",
    "        one_hot_predictions.scatter_(1, torch.argmax(predictions, dim=1).unsqueeze(1), 1)\n",
    "        return torch.argmax(torch.sum(one_hot_predictions, dim=0))\n",
    "    elif voting_type == \"weighted\":\n",
    "        weighted_sum = torch.sum(predictions * torch.tensor(classes_weights), dim=0)\n",
    "        return torch.argmax(weighted_sum)"
   ],
   "metadata": {
    "collapsed": false,
    "ExecuteTime": {
     "end_time": "2024-03-16T00:50:29.219604Z",
     "start_time": "2024-03-16T00:50:29.214550Z"
    }
   },
   "id": "2a33fc4a87feaa86",
   "execution_count": 10
  },
  {
   "cell_type": "code",
   "outputs": [
    {
     "name": "stdout",
     "output_type": "stream",
     "text": [
      "tensor(1)\n",
      "tensor(1)\n",
      "tensor(1)\n"
     ]
    }
   ],
   "source": [
    "# testing\n",
    "import torch.distributions.dirichlet as dirichlet\n",
    "\n",
    "num_rows = 100\n",
    "num_classes = 3\n",
    "\n",
    "samples = dirichlet.Dirichlet(torch.tensor([1.0]*num_classes)).sample((num_rows,))\n",
    "\n",
    "print(vote(\"soft\", samples))\n",
    "print(vote(\"hard\", samples))\n",
    "print(vote(\"weighted\", samples, classes_weights=[2,2,2]))"
   ],
   "metadata": {
    "collapsed": false,
    "ExecuteTime": {
     "end_time": "2024-03-16T00:51:27.293629Z",
     "start_time": "2024-03-16T00:51:27.286128Z"
    }
   },
   "id": "2d36ff6adb10aa81",
   "execution_count": 23
  }
 ],
 "metadata": {
  "kernelspec": {
   "display_name": "Python 3",
   "language": "python",
   "name": "python3"
  },
  "language_info": {
   "codemirror_mode": {
    "name": "ipython",
    "version": 2
   },
   "file_extension": ".py",
   "mimetype": "text/x-python",
   "name": "python",
   "nbconvert_exporter": "python",
   "pygments_lexer": "ipython2",
   "version": "2.7.6"
  }
 },
 "nbformat": 4,
 "nbformat_minor": 5
}
