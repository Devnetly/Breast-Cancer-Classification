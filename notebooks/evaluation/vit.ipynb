{
 "cells": [
  {
   "cell_type": "markdown",
   "metadata": {},
   "source": [
    "### Necessary Packages"
   ]
  },
  {
   "cell_type": "code",
   "execution_count": 1,
   "metadata": {},
   "outputs": [
    {
     "name": "stderr",
     "output_type": "stream",
     "text": [
      "Key OPENSLIDE_PATH not found in /home/abdelnour/Documents/4eme_anne/S2/projet/.env.\n",
      "Key OPENSLIDE_PATH not found in /home/abdelnour/Documents/4eme_anne/S2/projet/.env.\n"
     ]
    }
   ],
   "source": [
    "import torch\n",
    "import numpy as np\n",
    "import sys\n",
    "import dotenv\n",
    "import os\n",
    "import torch\n",
    "import seaborn as sns\n",
    "import matplotlib.pyplot as plt\n",
    "sys.path.append('../..')\n",
    "from timm.models import VisionTransformer\n",
    "from timm.data import resolve_model_data_config,create_transform\n",
    "from torchsummary import summary\n",
    "from torch.utils.data import DataLoader\n",
    "from src.transforms import LabelMapper\n",
    "from src.utils import load_model_from_folder,load_history_from_folder,predict,create_df,make_metric,compute_metrics\n",
    "from src.datasets import RoIDataset\n",
    "from tqdm.notebook import tqdm\n",
    "from sklearn.metrics import confusion_matrix,f1_score,accuracy_score,recall_score,precision_score\n"
   ]
  },
  {
   "cell_type": "markdown",
   "metadata": {},
   "source": [
    "**Model Hyperparameters :**\n",
    "\n",
    "- Initial weights : https://github.com/lunit-io/benchmark-ssl-pathology/releases/download/pretrained-weights/dino_vit_small_patch16_ep200.torch.\n",
    "- batch size : 32\n",
    "- epochs : 3\n",
    "- learning rate : 0.0001\n",
    "- sampler : balanced\n",
    "- decay rate : no learning rate decay\n",
    "- dropout : no dropout\n",
    "- optimizer : adam\n",
    "- weight decay : 0.00001\n",
    "- Depth : The whole network is trained."
   ]
  },
  {
   "cell_type": "markdown",
   "metadata": {},
   "source": [
    "### Setup the code to be device agnostic"
   ]
  },
  {
   "cell_type": "code",
   "execution_count": 2,
   "metadata": {},
   "outputs": [
    {
     "name": "stdout",
     "output_type": "stream",
     "text": [
      "cuda\n"
     ]
    }
   ],
   "source": [
    "device = torch.device(\"cuda\" if torch.cuda.is_available() else \"cpu\")\n",
    "print(device.type)"
   ]
  },
  {
   "cell_type": "markdown",
   "metadata": {},
   "source": [
    "### Results reproducibility"
   ]
  },
  {
   "cell_type": "code",
   "execution_count": 3,
   "metadata": {},
   "outputs": [],
   "source": [
    "torch.manual_seed(0)\n",
    "torch.use_deterministic_algorithms(True)"
   ]
  },
  {
   "cell_type": "markdown",
   "metadata": {},
   "source": [
    "### Load envirement variables"
   ]
  },
  {
   "cell_type": "code",
   "execution_count": 4,
   "metadata": {},
   "outputs": [],
   "source": [
    "PATCHES_DIR = dotenv.get_key(dotenv.find_dotenv(), \"PATCHES_DIR\")\n",
    "MODELS_DIR = dotenv.get_key(dotenv.find_dotenv(), \"MODELS_DIR\")\n",
    "HISTORIES_DIR = dotenv.get_key(dotenv.find_dotenv(), \"HISTORIES_DIR\")"
   ]
  },
  {
   "cell_type": "code",
   "execution_count": 5,
   "metadata": {},
   "outputs": [],
   "source": [
    "TRAIN_DIR = os.path.join(PATCHES_DIR, \"train\")\n",
    "VAL_DIR = os.path.join(PATCHES_DIR, \"val\")\n",
    "TEST_DIR = os.path.join(PATCHES_DIR, \"test\")"
   ]
  },
  {
   "cell_type": "code",
   "execution_count": 6,
   "metadata": {},
   "outputs": [
    {
     "name": "stdout",
     "output_type": "stream",
     "text": [
      "/home/abdelnour/Documents/4eme_anne/S2/projet/models\n",
      "/home/abdelnour/Documents/4eme_anne/S2/projet/data/patched\n",
      "/home/abdelnour/Documents/4eme_anne/S2/projet/histories\n",
      "/home/abdelnour/Documents/4eme_anne/S2/projet/data/patched/train\n",
      "/home/abdelnour/Documents/4eme_anne/S2/projet/data/patched/val\n",
      "/home/abdelnour/Documents/4eme_anne/S2/projet/data/patched/test\n"
     ]
    }
   ],
   "source": [
    "print(MODELS_DIR)\n",
    "print(PATCHES_DIR)\n",
    "print(HISTORIES_DIR)\n",
    "print(TRAIN_DIR)\n",
    "print(VAL_DIR)\n",
    "print(TEST_DIR)"
   ]
  },
  {
   "cell_type": "markdown",
   "metadata": {},
   "source": [
    "### Global"
   ]
  },
  {
   "cell_type": "code",
   "execution_count": 7,
   "metadata": {},
   "outputs": [],
   "source": [
    "BATCH_SIZE = 512\n",
    "NUM_WORKERS = 6\n",
    "PREFETCH_FACTOR = 2\n",
    "WEIGHTS_FOLDER  = os.path.join(MODELS_DIR, \"vit\")\n",
    "HISTORIES_FOLDER = path = os.path.join(HISTORIES_DIR, \"vit\")"
   ]
  },
  {
   "cell_type": "markdown",
   "metadata": {},
   "source": [
    "### Load the model"
   ]
  },
  {
   "cell_type": "code",
   "execution_count": 8,
   "metadata": {},
   "outputs": [],
   "source": [
    "model = VisionTransformer(img_size=224,patch_size=16,num_heads=6,embed_dim=384,num_classes=3).to(device)"
   ]
  },
  {
   "cell_type": "code",
   "execution_count": 9,
   "metadata": {},
   "outputs": [
    {
     "name": "stdout",
     "output_type": "stream",
     "text": [
      "loading weights with name : 1714429524.0255542.pt\n"
     ]
    }
   ],
   "source": [
    "load_model_from_folder(model, WEIGHTS_FOLDER, verbose=True)"
   ]
  },
  {
   "cell_type": "code",
   "execution_count": 10,
   "metadata": {},
   "outputs": [
    {
     "name": "stdout",
     "output_type": "stream",
     "text": [
      "----------------------------------------------------------------\n",
      "        Layer (type)               Output Shape         Param #\n",
      "================================================================\n",
      "            Conv2d-1          [-1, 384, 14, 14]         295,296\n",
      "          Identity-2             [-1, 196, 384]               0\n",
      "        PatchEmbed-3             [-1, 196, 384]               0\n",
      "           Dropout-4             [-1, 197, 384]               0\n",
      "          Identity-5             [-1, 197, 384]               0\n",
      "          Identity-6             [-1, 197, 384]               0\n",
      "         LayerNorm-7             [-1, 197, 384]             768\n",
      "            Linear-8            [-1, 197, 1152]         443,520\n",
      "          Identity-9           [-1, 6, 197, 64]               0\n",
      "         Identity-10           [-1, 6, 197, 64]               0\n",
      "           Linear-11             [-1, 197, 384]         147,840\n",
      "          Dropout-12             [-1, 197, 384]               0\n",
      "        Attention-13             [-1, 197, 384]               0\n",
      "         Identity-14             [-1, 197, 384]               0\n",
      "         Identity-15             [-1, 197, 384]               0\n",
      "        LayerNorm-16             [-1, 197, 384]             768\n",
      "           Linear-17            [-1, 197, 1536]         591,360\n",
      "             GELU-18            [-1, 197, 1536]               0\n",
      "          Dropout-19            [-1, 197, 1536]               0\n",
      "         Identity-20            [-1, 197, 1536]               0\n",
      "           Linear-21             [-1, 197, 384]         590,208\n",
      "          Dropout-22             [-1, 197, 384]               0\n",
      "              Mlp-23             [-1, 197, 384]               0\n",
      "         Identity-24             [-1, 197, 384]               0\n",
      "         Identity-25             [-1, 197, 384]               0\n",
      "            Block-26             [-1, 197, 384]               0\n",
      "        LayerNorm-27             [-1, 197, 384]             768\n",
      "           Linear-28            [-1, 197, 1152]         443,520\n",
      "         Identity-29           [-1, 6, 197, 64]               0\n",
      "         Identity-30           [-1, 6, 197, 64]               0\n",
      "           Linear-31             [-1, 197, 384]         147,840\n",
      "          Dropout-32             [-1, 197, 384]               0\n",
      "        Attention-33             [-1, 197, 384]               0\n",
      "         Identity-34             [-1, 197, 384]               0\n",
      "         Identity-35             [-1, 197, 384]               0\n",
      "        LayerNorm-36             [-1, 197, 384]             768\n",
      "           Linear-37            [-1, 197, 1536]         591,360\n",
      "             GELU-38            [-1, 197, 1536]               0\n",
      "          Dropout-39            [-1, 197, 1536]               0\n",
      "         Identity-40            [-1, 197, 1536]               0\n",
      "           Linear-41             [-1, 197, 384]         590,208\n",
      "          Dropout-42             [-1, 197, 384]               0\n",
      "              Mlp-43             [-1, 197, 384]               0\n",
      "         Identity-44             [-1, 197, 384]               0\n",
      "         Identity-45             [-1, 197, 384]               0\n",
      "            Block-46             [-1, 197, 384]               0\n",
      "        LayerNorm-47             [-1, 197, 384]             768\n",
      "           Linear-48            [-1, 197, 1152]         443,520\n",
      "         Identity-49           [-1, 6, 197, 64]               0\n",
      "         Identity-50           [-1, 6, 197, 64]               0\n",
      "           Linear-51             [-1, 197, 384]         147,840\n",
      "          Dropout-52             [-1, 197, 384]               0\n",
      "        Attention-53             [-1, 197, 384]               0\n",
      "         Identity-54             [-1, 197, 384]               0\n",
      "         Identity-55             [-1, 197, 384]               0\n",
      "        LayerNorm-56             [-1, 197, 384]             768\n",
      "           Linear-57            [-1, 197, 1536]         591,360\n",
      "             GELU-58            [-1, 197, 1536]               0\n",
      "          Dropout-59            [-1, 197, 1536]               0\n",
      "         Identity-60            [-1, 197, 1536]               0\n",
      "           Linear-61             [-1, 197, 384]         590,208\n",
      "          Dropout-62             [-1, 197, 384]               0\n",
      "              Mlp-63             [-1, 197, 384]               0\n",
      "         Identity-64             [-1, 197, 384]               0\n",
      "         Identity-65             [-1, 197, 384]               0\n",
      "            Block-66             [-1, 197, 384]               0\n",
      "        LayerNorm-67             [-1, 197, 384]             768\n",
      "           Linear-68            [-1, 197, 1152]         443,520\n",
      "         Identity-69           [-1, 6, 197, 64]               0\n",
      "         Identity-70           [-1, 6, 197, 64]               0\n",
      "           Linear-71             [-1, 197, 384]         147,840\n",
      "          Dropout-72             [-1, 197, 384]               0\n",
      "        Attention-73             [-1, 197, 384]               0\n",
      "         Identity-74             [-1, 197, 384]               0\n",
      "         Identity-75             [-1, 197, 384]               0\n",
      "        LayerNorm-76             [-1, 197, 384]             768\n",
      "           Linear-77            [-1, 197, 1536]         591,360\n",
      "             GELU-78            [-1, 197, 1536]               0\n",
      "          Dropout-79            [-1, 197, 1536]               0\n",
      "         Identity-80            [-1, 197, 1536]               0\n",
      "           Linear-81             [-1, 197, 384]         590,208\n",
      "          Dropout-82             [-1, 197, 384]               0\n",
      "              Mlp-83             [-1, 197, 384]               0\n",
      "         Identity-84             [-1, 197, 384]               0\n",
      "         Identity-85             [-1, 197, 384]               0\n",
      "            Block-86             [-1, 197, 384]               0\n",
      "        LayerNorm-87             [-1, 197, 384]             768\n",
      "           Linear-88            [-1, 197, 1152]         443,520\n",
      "         Identity-89           [-1, 6, 197, 64]               0\n",
      "         Identity-90           [-1, 6, 197, 64]               0\n",
      "           Linear-91             [-1, 197, 384]         147,840\n",
      "          Dropout-92             [-1, 197, 384]               0\n",
      "        Attention-93             [-1, 197, 384]               0\n",
      "         Identity-94             [-1, 197, 384]               0\n",
      "         Identity-95             [-1, 197, 384]               0\n",
      "        LayerNorm-96             [-1, 197, 384]             768\n",
      "           Linear-97            [-1, 197, 1536]         591,360\n",
      "             GELU-98            [-1, 197, 1536]               0\n",
      "          Dropout-99            [-1, 197, 1536]               0\n",
      "        Identity-100            [-1, 197, 1536]               0\n",
      "          Linear-101             [-1, 197, 384]         590,208\n",
      "         Dropout-102             [-1, 197, 384]               0\n",
      "             Mlp-103             [-1, 197, 384]               0\n",
      "        Identity-104             [-1, 197, 384]               0\n",
      "        Identity-105             [-1, 197, 384]               0\n",
      "           Block-106             [-1, 197, 384]               0\n",
      "       LayerNorm-107             [-1, 197, 384]             768\n",
      "          Linear-108            [-1, 197, 1152]         443,520\n",
      "        Identity-109           [-1, 6, 197, 64]               0\n",
      "        Identity-110           [-1, 6, 197, 64]               0\n",
      "          Linear-111             [-1, 197, 384]         147,840\n",
      "         Dropout-112             [-1, 197, 384]               0\n",
      "       Attention-113             [-1, 197, 384]               0\n",
      "        Identity-114             [-1, 197, 384]               0\n",
      "        Identity-115             [-1, 197, 384]               0\n",
      "       LayerNorm-116             [-1, 197, 384]             768\n",
      "          Linear-117            [-1, 197, 1536]         591,360\n",
      "            GELU-118            [-1, 197, 1536]               0\n",
      "         Dropout-119            [-1, 197, 1536]               0\n",
      "        Identity-120            [-1, 197, 1536]               0\n",
      "          Linear-121             [-1, 197, 384]         590,208\n",
      "         Dropout-122             [-1, 197, 384]               0\n",
      "             Mlp-123             [-1, 197, 384]               0\n",
      "        Identity-124             [-1, 197, 384]               0\n",
      "        Identity-125             [-1, 197, 384]               0\n",
      "           Block-126             [-1, 197, 384]               0\n",
      "       LayerNorm-127             [-1, 197, 384]             768\n",
      "          Linear-128            [-1, 197, 1152]         443,520\n",
      "        Identity-129           [-1, 6, 197, 64]               0\n",
      "        Identity-130           [-1, 6, 197, 64]               0\n",
      "          Linear-131             [-1, 197, 384]         147,840\n",
      "         Dropout-132             [-1, 197, 384]               0\n",
      "       Attention-133             [-1, 197, 384]               0\n",
      "        Identity-134             [-1, 197, 384]               0\n",
      "        Identity-135             [-1, 197, 384]               0\n",
      "       LayerNorm-136             [-1, 197, 384]             768\n",
      "          Linear-137            [-1, 197, 1536]         591,360\n",
      "            GELU-138            [-1, 197, 1536]               0\n",
      "         Dropout-139            [-1, 197, 1536]               0\n",
      "        Identity-140            [-1, 197, 1536]               0\n",
      "          Linear-141             [-1, 197, 384]         590,208\n",
      "         Dropout-142             [-1, 197, 384]               0\n",
      "             Mlp-143             [-1, 197, 384]               0\n",
      "        Identity-144             [-1, 197, 384]               0\n",
      "        Identity-145             [-1, 197, 384]               0\n",
      "           Block-146             [-1, 197, 384]               0\n",
      "       LayerNorm-147             [-1, 197, 384]             768\n",
      "          Linear-148            [-1, 197, 1152]         443,520\n",
      "        Identity-149           [-1, 6, 197, 64]               0\n",
      "        Identity-150           [-1, 6, 197, 64]               0\n",
      "          Linear-151             [-1, 197, 384]         147,840\n",
      "         Dropout-152             [-1, 197, 384]               0\n",
      "       Attention-153             [-1, 197, 384]               0\n",
      "        Identity-154             [-1, 197, 384]               0\n",
      "        Identity-155             [-1, 197, 384]               0\n",
      "       LayerNorm-156             [-1, 197, 384]             768\n",
      "          Linear-157            [-1, 197, 1536]         591,360\n",
      "            GELU-158            [-1, 197, 1536]               0\n",
      "         Dropout-159            [-1, 197, 1536]               0\n",
      "        Identity-160            [-1, 197, 1536]               0\n",
      "          Linear-161             [-1, 197, 384]         590,208\n",
      "         Dropout-162             [-1, 197, 384]               0\n",
      "             Mlp-163             [-1, 197, 384]               0\n",
      "        Identity-164             [-1, 197, 384]               0\n",
      "        Identity-165             [-1, 197, 384]               0\n",
      "           Block-166             [-1, 197, 384]               0\n",
      "       LayerNorm-167             [-1, 197, 384]             768\n",
      "          Linear-168            [-1, 197, 1152]         443,520\n",
      "        Identity-169           [-1, 6, 197, 64]               0\n",
      "        Identity-170           [-1, 6, 197, 64]               0\n",
      "          Linear-171             [-1, 197, 384]         147,840\n",
      "         Dropout-172             [-1, 197, 384]               0\n",
      "       Attention-173             [-1, 197, 384]               0\n",
      "        Identity-174             [-1, 197, 384]               0\n",
      "        Identity-175             [-1, 197, 384]               0\n",
      "       LayerNorm-176             [-1, 197, 384]             768\n",
      "          Linear-177            [-1, 197, 1536]         591,360\n",
      "            GELU-178            [-1, 197, 1536]               0\n",
      "         Dropout-179            [-1, 197, 1536]               0\n",
      "        Identity-180            [-1, 197, 1536]               0\n",
      "          Linear-181             [-1, 197, 384]         590,208\n",
      "         Dropout-182             [-1, 197, 384]               0\n",
      "             Mlp-183             [-1, 197, 384]               0\n",
      "        Identity-184             [-1, 197, 384]               0\n",
      "        Identity-185             [-1, 197, 384]               0\n",
      "           Block-186             [-1, 197, 384]               0\n",
      "       LayerNorm-187             [-1, 197, 384]             768\n",
      "          Linear-188            [-1, 197, 1152]         443,520\n",
      "        Identity-189           [-1, 6, 197, 64]               0\n",
      "        Identity-190           [-1, 6, 197, 64]               0\n",
      "          Linear-191             [-1, 197, 384]         147,840\n",
      "         Dropout-192             [-1, 197, 384]               0\n",
      "       Attention-193             [-1, 197, 384]               0\n",
      "        Identity-194             [-1, 197, 384]               0\n",
      "        Identity-195             [-1, 197, 384]               0\n",
      "       LayerNorm-196             [-1, 197, 384]             768\n",
      "          Linear-197            [-1, 197, 1536]         591,360\n",
      "            GELU-198            [-1, 197, 1536]               0\n",
      "         Dropout-199            [-1, 197, 1536]               0\n",
      "        Identity-200            [-1, 197, 1536]               0\n",
      "          Linear-201             [-1, 197, 384]         590,208\n",
      "         Dropout-202             [-1, 197, 384]               0\n",
      "             Mlp-203             [-1, 197, 384]               0\n",
      "        Identity-204             [-1, 197, 384]               0\n",
      "        Identity-205             [-1, 197, 384]               0\n",
      "           Block-206             [-1, 197, 384]               0\n",
      "       LayerNorm-207             [-1, 197, 384]             768\n",
      "          Linear-208            [-1, 197, 1152]         443,520\n",
      "        Identity-209           [-1, 6, 197, 64]               0\n",
      "        Identity-210           [-1, 6, 197, 64]               0\n",
      "          Linear-211             [-1, 197, 384]         147,840\n",
      "         Dropout-212             [-1, 197, 384]               0\n",
      "       Attention-213             [-1, 197, 384]               0\n",
      "        Identity-214             [-1, 197, 384]               0\n",
      "        Identity-215             [-1, 197, 384]               0\n",
      "       LayerNorm-216             [-1, 197, 384]             768\n",
      "          Linear-217            [-1, 197, 1536]         591,360\n",
      "            GELU-218            [-1, 197, 1536]               0\n",
      "         Dropout-219            [-1, 197, 1536]               0\n",
      "        Identity-220            [-1, 197, 1536]               0\n",
      "          Linear-221             [-1, 197, 384]         590,208\n",
      "         Dropout-222             [-1, 197, 384]               0\n",
      "             Mlp-223             [-1, 197, 384]               0\n",
      "        Identity-224             [-1, 197, 384]               0\n",
      "        Identity-225             [-1, 197, 384]               0\n",
      "           Block-226             [-1, 197, 384]               0\n",
      "       LayerNorm-227             [-1, 197, 384]             768\n",
      "          Linear-228            [-1, 197, 1152]         443,520\n",
      "        Identity-229           [-1, 6, 197, 64]               0\n",
      "        Identity-230           [-1, 6, 197, 64]               0\n",
      "          Linear-231             [-1, 197, 384]         147,840\n",
      "         Dropout-232             [-1, 197, 384]               0\n",
      "       Attention-233             [-1, 197, 384]               0\n",
      "        Identity-234             [-1, 197, 384]               0\n",
      "        Identity-235             [-1, 197, 384]               0\n",
      "       LayerNorm-236             [-1, 197, 384]             768\n",
      "          Linear-237            [-1, 197, 1536]         591,360\n",
      "            GELU-238            [-1, 197, 1536]               0\n",
      "         Dropout-239            [-1, 197, 1536]               0\n",
      "        Identity-240            [-1, 197, 1536]               0\n",
      "          Linear-241             [-1, 197, 384]         590,208\n",
      "         Dropout-242             [-1, 197, 384]               0\n",
      "             Mlp-243             [-1, 197, 384]               0\n",
      "        Identity-244             [-1, 197, 384]               0\n",
      "        Identity-245             [-1, 197, 384]               0\n",
      "           Block-246             [-1, 197, 384]               0\n",
      "       LayerNorm-247             [-1, 197, 384]             768\n",
      "        Identity-248                  [-1, 384]               0\n",
      "         Dropout-249                  [-1, 384]               0\n",
      "          Linear-250                    [-1, 3]           1,155\n",
      "================================================================\n",
      "Total params: 21,590,787\n",
      "Trainable params: 21,590,787\n",
      "Non-trainable params: 0\n",
      "----------------------------------------------------------------\n",
      "Input size (MB): 0.57\n",
      "Forward/backward pass size (MB): 239.51\n",
      "Params size (MB): 82.36\n",
      "Estimated Total Size (MB): 322.45\n",
      "----------------------------------------------------------------\n"
     ]
    }
   ],
   "source": [
    "summary(model, input_size=(3,224,224), device=device.type)"
   ]
  },
  {
   "cell_type": "markdown",
   "metadata": {},
   "source": [
    "### Learning graph"
   ]
  },
  {
   "cell_type": "code",
   "execution_count": 11,
   "metadata": {},
   "outputs": [],
   "source": [
    "history_df = load_history_from_folder(HISTORIES_FOLDER)"
   ]
  },
  {
   "cell_type": "code",
   "execution_count": 12,
   "metadata": {},
   "outputs": [
    {
     "data": {
      "text/plain": [
       "<Axes: xlabel='epoch', ylabel='accuracy'>"
      ]
     },
     "execution_count": 12,
     "metadata": {},
     "output_type": "execute_result"
    },
    {
     "data": {
      "image/png": "[encoded data removed]",
      "text/plain": [
       "<Figure size 1500x500 with 2 Axes>"
      ]
     },
     "metadata": {},
     "output_type": "display_data"
    }
   ],
   "source": [
    "fig, (ax1, ax2) = plt.subplots(ncols=2)\n",
    "\n",
    "fig.set_size_inches(15, 5)\n",
    "\n",
    "sns.lineplot(data=history_df, x=\"epoch\", y=\"loss\", hue=\"split\", ax=ax1)\n",
    "sns.lineplot(data=history_df, x=\"epoch\", y=\"accuracy\", hue=\"split\", ax=ax2)"
   ]
  },
  {
   "cell_type": "markdown",
   "metadata": {},
   "source": [
    "### Data Loading"
   ]
  },
  {
   "cell_type": "code",
   "execution_count": 13,
   "metadata": {},
   "outputs": [],
   "source": [
    "label_mapper = LabelMapper({\n",
    "    0:0, # 0 is the label for benign (BY)\n",
    "    1:0, \n",
    "    2:0,\n",
    "    3:1, # 1 is the label for atypical (AT)\n",
    "    4:1,\n",
    "    5:2, # 2 is the label for malignant (MT)\n",
    "    6:2,\n",
    "})"
   ]
  },
  {
   "cell_type": "code",
   "execution_count": 14,
   "metadata": {},
   "outputs": [],
   "source": [
    "data_config = resolve_model_data_config(model)\n",
    "transform = create_transform(**data_config, is_training=False)"
   ]
  },
  {
   "cell_type": "code",
   "execution_count": 15,
   "metadata": {},
   "outputs": [],
   "source": [
    "dataset = RoIDataset(\n",
    "    root=TEST_DIR,\n",
    "    target_transform=label_mapper,\n",
    "    transform=transform,\n",
    ")"
   ]
  },
  {
   "cell_type": "code",
   "execution_count": 16,
   "metadata": {},
   "outputs": [],
   "source": [
    "loader = DataLoader(dataset=dataset, batch_size=BATCH_SIZE,num_workers=NUM_WORKERS,prefetch_factor=PREFETCH_FACTOR)"
   ]
  },
  {
   "cell_type": "markdown",
   "metadata": {},
   "source": [
    "### Prediciting"
   ]
  },
  {
   "cell_type": "code",
   "execution_count": 17,
   "metadata": {},
   "outputs": [
    {
     "data": {
      "application/vnd.jupyter.widget-view+json": {
       "model_id": "7b45a3e271594be7abdb0e56611b36eb",
       "version_major": 2,
       "version_minor": 0
      },
      "text/plain": [
       "  0%|          | 0/78 [00:00<?, ?it/s]"
      ]
     },
     "metadata": {},
     "output_type": "display_data"
    }
   ],
   "source": [
    "paths,y_hat,y = predict(model, loader, device=device)"
   ]
  },
  {
   "cell_type": "code",
   "execution_count": 18,
   "metadata": {},
   "outputs": [],
   "source": [
    "df = create_df(paths,y, y_hat)"
   ]
  },
  {
   "cell_type": "code",
   "execution_count": 19,
   "metadata": {},
   "outputs": [
    {
     "data": {
      "text/html": [
       "<div>\n",
       "<style scoped>\n",
       "    .dataframe tbody tr th:only-of-type {\n",
       "        vertical-align: middle;\n",
       "    }\n",
       "\n",
       "    .dataframe tbody tr th {\n",
       "        vertical-align: top;\n",
       "    }\n",
       "\n",
       "    .dataframe thead th {\n",
       "        text-align: right;\n",
       "    }\n",
       "</style>\n",
       "<table border=\"1\" class=\"dataframe\">\n",
       "  <thead>\n",
       "    <tr style=\"text-align: right;\">\n",
       "      <th></th>\n",
       "      <th>patch_name</th>\n",
       "      <th>label</th>\n",
       "      <th>roi</th>\n",
       "      <th>benign</th>\n",
       "      <th>atypical</th>\n",
       "      <th>malignant</th>\n",
       "      <th>predicted_label</th>\n",
       "    </tr>\n",
       "  </thead>\n",
       "  <tbody>\n",
       "    <tr>\n",
       "      <th>0</th>\n",
       "      <td>BRACS_1286_N_40_0.png</td>\n",
       "      <td>0</td>\n",
       "      <td>BRACS_1286_N_40.png</td>\n",
       "      <td>0.659312</td>\n",
       "      <td>0.196448</td>\n",
       "      <td>0.144239</td>\n",
       "      <td>0</td>\n",
       "    </tr>\n",
       "    <tr>\n",
       "      <th>1</th>\n",
       "      <td>BRACS_1286_N_40_1.png</td>\n",
       "      <td>0</td>\n",
       "      <td>BRACS_1286_N_40.png</td>\n",
       "      <td>0.849197</td>\n",
       "      <td>0.103979</td>\n",
       "      <td>0.046824</td>\n",
       "      <td>0</td>\n",
       "    </tr>\n",
       "    <tr>\n",
       "      <th>2</th>\n",
       "      <td>BRACS_1286_N_40_10.png</td>\n",
       "      <td>0</td>\n",
       "      <td>BRACS_1286_N_40.png</td>\n",
       "      <td>0.610991</td>\n",
       "      <td>0.300331</td>\n",
       "      <td>0.088678</td>\n",
       "      <td>0</td>\n",
       "    </tr>\n",
       "    <tr>\n",
       "      <th>3</th>\n",
       "      <td>BRACS_1286_N_40_11.png</td>\n",
       "      <td>0</td>\n",
       "      <td>BRACS_1286_N_40.png</td>\n",
       "      <td>0.715324</td>\n",
       "      <td>0.218249</td>\n",
       "      <td>0.066427</td>\n",
       "      <td>0</td>\n",
       "    </tr>\n",
       "    <tr>\n",
       "      <th>4</th>\n",
       "      <td>BRACS_1286_N_40_12.png</td>\n",
       "      <td>0</td>\n",
       "      <td>BRACS_1286_N_40.png</td>\n",
       "      <td>0.811201</td>\n",
       "      <td>0.113276</td>\n",
       "      <td>0.075523</td>\n",
       "      <td>0</td>\n",
       "    </tr>\n",
       "  </tbody>\n",
       "</table>\n",
       "</div>"
      ],
      "text/plain": [
       "               patch_name  label                  roi    benign  atypical  \\\n",
       "0   BRACS_1286_N_40_0.png      0  BRACS_1286_N_40.png  0.659312  0.196448   \n",
       "1   BRACS_1286_N_40_1.png      0  BRACS_1286_N_40.png  0.849197  0.103979   \n",
       "2  BRACS_1286_N_40_10.png      0  BRACS_1286_N_40.png  0.610991  0.300331   \n",
       "3  BRACS_1286_N_40_11.png      0  BRACS_1286_N_40.png  0.715324  0.218249   \n",
       "4  BRACS_1286_N_40_12.png      0  BRACS_1286_N_40.png  0.811201  0.113276   \n",
       "\n",
       "   malignant  predicted_label  \n",
       "0   0.144239                0  \n",
       "1   0.046824                0  \n",
       "2   0.088678                0  \n",
       "3   0.066427                0  \n",
       "4   0.075523                0  "
      ]
     },
     "execution_count": 19,
     "metadata": {},
     "output_type": "execute_result"
    }
   ],
   "source": [
    "df.head()"
   ]
  },
  {
   "cell_type": "markdown",
   "metadata": {},
   "source": [
    "### Predictions analysis (patches persepective)"
   ]
  },
  {
   "cell_type": "code",
   "execution_count": 20,
   "metadata": {},
   "outputs": [],
   "source": [
    "metrics= {\n",
    "    \"accuracy\" : accuracy_score,\n",
    "    \"precision_macro\" : make_metric(precision_score, average=\"macro\"),\n",
    "    \"precision_micro\" : make_metric(precision_score, average=\"micro\"),\n",
    "    \"recall_macro\" : make_metric(recall_score, average=\"macro\"),\n",
    "    \"recall_micro\" : make_metric(recall_score, average=\"micro\"),\n",
    "    \"f1_macro\" : make_metric(f1_score, average=\"macro\"),\n",
    "    \"f1_micro\" : make_metric(f1_score, average=\"micro\")\n",
    "}"
   ]
  },
  {
   "cell_type": "code",
   "execution_count": 21,
   "metadata": {},
   "outputs": [
    {
     "data": {
      "text/plain": [
       "accuracy           0.536499\n",
       "precision_macro    0.517619\n",
       "precision_micro    0.536499\n",
       "recall_macro       0.501101\n",
       "recall_micro       0.536499\n",
       "f1_macro           0.474868\n",
       "f1_micro           0.536499\n",
       "dtype: float64"
      ]
     },
     "execution_count": 21,
     "metadata": {},
     "output_type": "execute_result"
    }
   ],
   "source": [
    "compute_metrics(metrics, df[\"label\"], df[\"predicted_label\"])"
   ]
  },
  {
   "cell_type": "code",
   "execution_count": 22,
   "metadata": {},
   "outputs": [
    {
     "data": {
      "text/plain": [
       "<Axes: >"
      ]
     },
     "execution_count": 22,
     "metadata": {},
     "output_type": "execute_result"
    },
    {
     "data": {
      "image/png": "[encoded data removed]",
      "text/plain": [
       "<Figure size 640x480 with 2 Axes>"
      ]
     },
     "metadata": {},
     "output_type": "display_data"
    }
   ],
   "source": [
    "cm = confusion_matrix(df[\"label\"], df[\"predicted_label\"])\n",
    "sns.heatmap(data=cm,annot=True,fmt=',d',cmap='Blues')"
   ]
  },
  {
   "cell_type": "markdown",
   "metadata": {},
   "source": [
    "### Predictions analysis (Roi persepective, softvoting)"
   ]
  },
  {
   "cell_type": "code",
   "execution_count": 23,
   "metadata": {},
   "outputs": [],
   "source": [
    "soft_df = df[[\"label\",\"roi\",\"benign\",\"atypical\",\"malignant\"]] \\\n",
    "    .groupby(by=[\"label\",\"roi\"]) \\\n",
    "    .mean() \\\n",
    "    .reset_index()"
   ]
  },
  {
   "cell_type": "code",
   "execution_count": 24,
   "metadata": {},
   "outputs": [
    {
     "data": {
      "text/html": [
       "<div>\n",
       "<style scoped>\n",
       "    .dataframe tbody tr th:only-of-type {\n",
       "        vertical-align: middle;\n",
       "    }\n",
       "\n",
       "    .dataframe tbody tr th {\n",
       "        vertical-align: top;\n",
       "    }\n",
       "\n",
       "    .dataframe thead th {\n",
       "        text-align: right;\n",
       "    }\n",
       "</style>\n",
       "<table border=\"1\" class=\"dataframe\">\n",
       "  <thead>\n",
       "    <tr style=\"text-align: right;\">\n",
       "      <th></th>\n",
       "      <th>label</th>\n",
       "      <th>roi</th>\n",
       "      <th>benign</th>\n",
       "      <th>atypical</th>\n",
       "      <th>malignant</th>\n",
       "    </tr>\n",
       "  </thead>\n",
       "  <tbody>\n",
       "    <tr>\n",
       "      <th>0</th>\n",
       "      <td>0</td>\n",
       "      <td>BRACS_1228_UDH_2.png</td>\n",
       "      <td>0.208189</td>\n",
       "      <td>0.657590</td>\n",
       "      <td>0.134221</td>\n",
       "    </tr>\n",
       "    <tr>\n",
       "      <th>1</th>\n",
       "      <td>0</td>\n",
       "      <td>BRACS_1284_UDH_4.png</td>\n",
       "      <td>0.543640</td>\n",
       "      <td>0.309238</td>\n",
       "      <td>0.147122</td>\n",
       "    </tr>\n",
       "    <tr>\n",
       "      <th>2</th>\n",
       "      <td>0</td>\n",
       "      <td>BRACS_1286_N_40.png</td>\n",
       "      <td>0.585970</td>\n",
       "      <td>0.273323</td>\n",
       "      <td>0.140707</td>\n",
       "    </tr>\n",
       "    <tr>\n",
       "      <th>3</th>\n",
       "      <td>0</td>\n",
       "      <td>BRACS_1286_PB_21.png</td>\n",
       "      <td>0.594927</td>\n",
       "      <td>0.258426</td>\n",
       "      <td>0.146647</td>\n",
       "    </tr>\n",
       "    <tr>\n",
       "      <th>4</th>\n",
       "      <td>0</td>\n",
       "      <td>BRACS_1286_PB_5.png</td>\n",
       "      <td>0.620700</td>\n",
       "      <td>0.243650</td>\n",
       "      <td>0.135650</td>\n",
       "    </tr>\n",
       "  </tbody>\n",
       "</table>\n",
       "</div>"
      ],
      "text/plain": [
       "   label                   roi    benign  atypical  malignant\n",
       "0      0  BRACS_1228_UDH_2.png  0.208189  0.657590   0.134221\n",
       "1      0  BRACS_1284_UDH_4.png  0.543640  0.309238   0.147122\n",
       "2      0   BRACS_1286_N_40.png  0.585970  0.273323   0.140707\n",
       "3      0  BRACS_1286_PB_21.png  0.594927  0.258426   0.146647\n",
       "4      0   BRACS_1286_PB_5.png  0.620700  0.243650   0.135650"
      ]
     },
     "execution_count": 24,
     "metadata": {},
     "output_type": "execute_result"
    }
   ],
   "source": [
    "soft_df.head()"
   ]
  },
  {
   "cell_type": "code",
   "execution_count": 25,
   "metadata": {},
   "outputs": [],
   "source": [
    "soft_df[\"predicted_label\"] = np.argmax(soft_df[['benign','atypical','malignant']].values, axis=1)"
   ]
  },
  {
   "cell_type": "code",
   "execution_count": 26,
   "metadata": {},
   "outputs": [
    {
     "data": {
      "text/html": [
       "<div>\n",
       "<style scoped>\n",
       "    .dataframe tbody tr th:only-of-type {\n",
       "        vertical-align: middle;\n",
       "    }\n",
       "\n",
       "    .dataframe tbody tr th {\n",
       "        vertical-align: top;\n",
       "    }\n",
       "\n",
       "    .dataframe thead th {\n",
       "        text-align: right;\n",
       "    }\n",
       "</style>\n",
       "<table border=\"1\" class=\"dataframe\">\n",
       "  <thead>\n",
       "    <tr style=\"text-align: right;\">\n",
       "      <th></th>\n",
       "      <th>label</th>\n",
       "      <th>roi</th>\n",
       "      <th>benign</th>\n",
       "      <th>atypical</th>\n",
       "      <th>malignant</th>\n",
       "      <th>predicted_label</th>\n",
       "    </tr>\n",
       "  </thead>\n",
       "  <tbody>\n",
       "    <tr>\n",
       "      <th>0</th>\n",
       "      <td>0</td>\n",
       "      <td>BRACS_1228_UDH_2.png</td>\n",
       "      <td>0.208189</td>\n",
       "      <td>0.657590</td>\n",
       "      <td>0.134221</td>\n",
       "      <td>1</td>\n",
       "    </tr>\n",
       "    <tr>\n",
       "      <th>1</th>\n",
       "      <td>0</td>\n",
       "      <td>BRACS_1284_UDH_4.png</td>\n",
       "      <td>0.543640</td>\n",
       "      <td>0.309238</td>\n",
       "      <td>0.147122</td>\n",
       "      <td>0</td>\n",
       "    </tr>\n",
       "    <tr>\n",
       "      <th>2</th>\n",
       "      <td>0</td>\n",
       "      <td>BRACS_1286_N_40.png</td>\n",
       "      <td>0.585970</td>\n",
       "      <td>0.273323</td>\n",
       "      <td>0.140707</td>\n",
       "      <td>0</td>\n",
       "    </tr>\n",
       "    <tr>\n",
       "      <th>3</th>\n",
       "      <td>0</td>\n",
       "      <td>BRACS_1286_PB_21.png</td>\n",
       "      <td>0.594927</td>\n",
       "      <td>0.258426</td>\n",
       "      <td>0.146647</td>\n",
       "      <td>0</td>\n",
       "    </tr>\n",
       "    <tr>\n",
       "      <th>4</th>\n",
       "      <td>0</td>\n",
       "      <td>BRACS_1286_PB_5.png</td>\n",
       "      <td>0.620700</td>\n",
       "      <td>0.243650</td>\n",
       "      <td>0.135650</td>\n",
       "      <td>0</td>\n",
       "    </tr>\n",
       "  </tbody>\n",
       "</table>\n",
       "</div>"
      ],
      "text/plain": [
       "   label                   roi    benign  atypical  malignant  predicted_label\n",
       "0      0  BRACS_1228_UDH_2.png  0.208189  0.657590   0.134221                1\n",
       "1      0  BRACS_1284_UDH_4.png  0.543640  0.309238   0.147122                0\n",
       "2      0   BRACS_1286_N_40.png  0.585970  0.273323   0.140707                0\n",
       "3      0  BRACS_1286_PB_21.png  0.594927  0.258426   0.146647                0\n",
       "4      0   BRACS_1286_PB_5.png  0.620700  0.243650   0.135650                0"
      ]
     },
     "execution_count": 26,
     "metadata": {},
     "output_type": "execute_result"
    }
   ],
   "source": [
    "soft_df.head()"
   ]
  },
  {
   "cell_type": "code",
   "execution_count": 27,
   "metadata": {},
   "outputs": [
    {
     "data": {
      "text/plain": [
       "accuracy           0.568421\n",
       "precision_macro    0.581389\n",
       "precision_micro    0.568421\n",
       "recall_macro       0.521714\n",
       "recall_micro       0.568421\n",
       "f1_macro           0.517701\n",
       "f1_micro           0.568421\n",
       "dtype: float64"
      ]
     },
     "execution_count": 27,
     "metadata": {},
     "output_type": "execute_result"
    }
   ],
   "source": [
    "compute_metrics(metrics, soft_df[\"label\"], soft_df[\"predicted_label\"])"
   ]
  },
  {
   "cell_type": "code",
   "execution_count": 28,
   "metadata": {},
   "outputs": [
    {
     "data": {
      "text/plain": [
       "<Axes: >"
      ]
     },
     "execution_count": 28,
     "metadata": {},
     "output_type": "execute_result"
    },
    {
     "data": {
      "image/png": "[encoded data removed]",
      "text/plain": [
       "<Figure size 640x480 with 2 Axes>"
      ]
     },
     "metadata": {},
     "output_type": "display_data"
    }
   ],
   "source": [
    "cm = confusion_matrix(soft_df[\"label\"], soft_df[\"predicted_label\"])\n",
    "sns.heatmap(data=cm,annot=True,fmt=',d',cmap='Blues')"
   ]
  },
  {
   "cell_type": "markdown",
   "metadata": {},
   "source": [
    "### Predictions analysis (Roi persepective, hardvoting)"
   ]
  },
  {
   "cell_type": "code",
   "execution_count": 29,
   "metadata": {},
   "outputs": [],
   "source": [
    "def count(x:np.ndarray) -> float:\n",
    "    values, counts = np.unique(x, return_counts=True)\n",
    "    return values[counts.argmax()]\n"
   ]
  },
  {
   "cell_type": "code",
   "execution_count": 30,
   "metadata": {},
   "outputs": [],
   "source": [
    "hard_df = df[[\"label\",\"roi\",\"predicted_label\"]] \\\n",
    "    .groupby(by=[\"label\",\"roi\"]) \\\n",
    "    .agg(count) \\\n",
    "    .reset_index()"
   ]
  },
  {
   "cell_type": "code",
   "execution_count": 31,
   "metadata": {},
   "outputs": [
    {
     "data": {
      "text/html": [
       "<div>\n",
       "<style scoped>\n",
       "    .dataframe tbody tr th:only-of-type {\n",
       "        vertical-align: middle;\n",
       "    }\n",
       "\n",
       "    .dataframe tbody tr th {\n",
       "        vertical-align: top;\n",
       "    }\n",
       "\n",
       "    .dataframe thead th {\n",
       "        text-align: right;\n",
       "    }\n",
       "</style>\n",
       "<table border=\"1\" class=\"dataframe\">\n",
       "  <thead>\n",
       "    <tr style=\"text-align: right;\">\n",
       "      <th></th>\n",
       "      <th>label</th>\n",
       "      <th>roi</th>\n",
       "      <th>predicted_label</th>\n",
       "    </tr>\n",
       "  </thead>\n",
       "  <tbody>\n",
       "    <tr>\n",
       "      <th>0</th>\n",
       "      <td>0</td>\n",
       "      <td>BRACS_1228_UDH_2.png</td>\n",
       "      <td>1</td>\n",
       "    </tr>\n",
       "    <tr>\n",
       "      <th>1</th>\n",
       "      <td>0</td>\n",
       "      <td>BRACS_1284_UDH_4.png</td>\n",
       "      <td>0</td>\n",
       "    </tr>\n",
       "    <tr>\n",
       "      <th>2</th>\n",
       "      <td>0</td>\n",
       "      <td>BRACS_1286_N_40.png</td>\n",
       "      <td>0</td>\n",
       "    </tr>\n",
       "    <tr>\n",
       "      <th>3</th>\n",
       "      <td>0</td>\n",
       "      <td>BRACS_1286_PB_21.png</td>\n",
       "      <td>0</td>\n",
       "    </tr>\n",
       "    <tr>\n",
       "      <th>4</th>\n",
       "      <td>0</td>\n",
       "      <td>BRACS_1286_PB_5.png</td>\n",
       "      <td>0</td>\n",
       "    </tr>\n",
       "  </tbody>\n",
       "</table>\n",
       "</div>"
      ],
      "text/plain": [
       "   label                   roi  predicted_label\n",
       "0      0  BRACS_1228_UDH_2.png                1\n",
       "1      0  BRACS_1284_UDH_4.png                0\n",
       "2      0   BRACS_1286_N_40.png                0\n",
       "3      0  BRACS_1286_PB_21.png                0\n",
       "4      0   BRACS_1286_PB_5.png                0"
      ]
     },
     "execution_count": 31,
     "metadata": {},
     "output_type": "execute_result"
    }
   ],
   "source": [
    "hard_df.head()"
   ]
  },
  {
   "cell_type": "code",
   "execution_count": 32,
   "metadata": {},
   "outputs": [
    {
     "data": {
      "text/plain": [
       "accuracy           0.554386\n",
       "precision_macro    0.556744\n",
       "precision_micro    0.554386\n",
       "recall_macro       0.505550\n",
       "recall_micro       0.554386\n",
       "f1_macro           0.498917\n",
       "f1_micro           0.554386\n",
       "dtype: float64"
      ]
     },
     "execution_count": 32,
     "metadata": {},
     "output_type": "execute_result"
    }
   ],
   "source": [
    "compute_metrics(metrics, hard_df[\"label\"], hard_df[\"predicted_label\"])"
   ]
  },
  {
   "cell_type": "code",
   "execution_count": 33,
   "metadata": {},
   "outputs": [
    {
     "data": {
      "text/plain": [
       "<Axes: >"
      ]
     },
     "execution_count": 33,
     "metadata": {},
     "output_type": "execute_result"
    },
    {
     "data": {
      "image/png": "[encoded data removed]",
      "text/plain": [
       "<Figure size 640x480 with 2 Axes>"
      ]
     },
     "metadata": {},
     "output_type": "display_data"
    }
   ],
   "source": [
    "cm = confusion_matrix(hard_df[\"label\"], hard_df[\"predicted_label\"])\n",
    "sns.heatmap(data=cm,annot=True,fmt=',d',cmap='Blues')"
   ]
  }
 ],
 "metadata": {
  "kernelspec": {
   "display_name": "ml",
   "language": "python",
   "name": "python3"
  },
  "language_info": {
   "codemirror_mode": {
    "name": "ipython",
    "version": 3
   },
   "file_extension": ".py",
   "mimetype": "text/x-python",
   "name": "python",
   "nbconvert_exporter": "python",
   "pygments_lexer": "ipython3",
   "version": "3.12.2"
  },
  "orig_nbformat": 4
 },
 "nbformat": 4,
 "nbformat_minor": 2
}
