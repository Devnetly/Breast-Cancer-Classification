{
 "cells": [
  {
   "cell_type": "code",
   "execution_count": 1,
   "metadata": {},
   "outputs": [
    {
     "name": "stderr",
     "output_type": "stream",
     "text": [
      "/home/abdelnour/anaconda3/envs/ml/lib/python3.11/site-packages/torchvision/io/image.py:13: UserWarning: Failed to load image Python extension: '/home/abdelnour/anaconda3/envs/ml/lib/python3.11/site-packages/torchvision/image.so: undefined symbol: _ZNK3c107SymBool10guard_boolEPKcl'If you don't plan on using image functionality from `torchvision.io`, you can ignore this warning. Otherwise, there might be something wrong with your environment. Did you have `libjpeg` or `libpng` installed before building `torchvision` from source?\n",
      "  warn(\n"
     ]
    }
   ],
   "source": [
    "import sys\n",
    "import os\n",
    "sys.path.append('../..')\n",
    "import torch\n",
    "import dotenv\n",
    "import torchvision\n",
    "import pandas as pd\n",
    "from src.models import ResNet18\n",
    "from torchvision.datasets.folder import default_loader\n",
    "from tqdm.notebook import tqdm\n",
    "from src.transforms import LabelMapper"
   ]
  },
  {
   "cell_type": "code",
   "execution_count": 2,
   "metadata": {},
   "outputs": [],
   "source": [
    "model = ResNet18(n_classes=3) # the weights should be loaded from a file"
   ]
  },
  {
   "cell_type": "code",
   "execution_count": 3,
   "metadata": {},
   "outputs": [
    {
     "name": "stdout",
     "output_type": "stream",
     "text": [
      "/home/abdelnour/Documents/4eme_anne/S2/projet/data/roi-dataset/BRACS_RoI/latest_version /home/abdelnour/Documents/4eme_anne/S2/projet/data/patched\n"
     ]
    }
   ],
   "source": [
    "DATA_DIR = os.path.join(dotenv.get_key(dotenv.find_dotenv(), \"DATA_DIR\"))\n",
    "TARGET_DIR = os.path.join(dotenv.get_key(dotenv.find_dotenv(), \"TARGET_DIR\"))\n",
    "\n",
    "print(DATA_DIR)\n",
    "print(TARGET_DIR)"
   ]
  },
  {
   "cell_type": "code",
   "execution_count": 4,
   "metadata": {},
   "outputs": [],
   "source": [
    "from typing import Any, Tuple\n",
    "\n",
    "\n",
    "class PatchedRoIDataset(torchvision.datasets.ImageFolder):\n",
    "\n",
    "    def __init__(self, root: str,\n",
    "        transform = None,\n",
    "        target_transform = None,\n",
    "        loader=default_loader,\n",
    "        is_valid_file = None\n",
    "    ):\n",
    "        super().__init__(\n",
    "            root=root,\n",
    "            transform=transform,\n",
    "            loader=loader,\n",
    "            is_valid_file=is_valid_file,\n",
    "            target_transform=target_transform\n",
    "        )\n",
    "\n",
    "    def __getitem__(self, index: int) -> Tuple[Any, Any]:\n",
    "        path,label =  self.samples[index]\n",
    "        img, label = super().__getitem__(index)\n",
    "        return path,img,label"
   ]
  },
  {
   "cell_type": "code",
   "execution_count": 5,
   "metadata": {},
   "outputs": [],
   "source": [
    "label_mapper = LabelMapper({\n",
    "    \"0_N\":\"benign\", # 0 is the label for benign (BY)\n",
    "    \"1_PB\":\"benign\", \n",
    "    \"2_UHD\":\"benign\",\n",
    "    \"3_FEA\":\"atypical\",\n",
    "    \"4_ADH\":\"atypical\", # 1 is the label for atypical (AT)\n",
    "    \"5_DCIS\":\"malignant\",\n",
    "    \"6_DCIS\":\"malignant\", # 2 is the label for malignant (MT)\n",
    "})"
   ]
  },
  {
   "cell_type": "code",
   "execution_count": 7,
   "metadata": {},
   "outputs": [],
   "source": [
    "dataset = PatchedRoIDataset(\n",
    "    root=os.path.join(TARGET_DIR, \"val\"),\n",
    "    transform=torchvision.transforms.ToTensor(),\n",
    "    target_transform=label_mapper\n",
    ")"
   ]
  },
  {
   "cell_type": "code",
   "execution_count": 8,
   "metadata": {},
   "outputs": [],
   "source": [
    "dataloader = torch.utils.data.DataLoader(dataset=dataset,batch_size=8,shuffle=True)"
   ]
  },
  {
   "cell_type": "code",
   "execution_count": 9,
   "metadata": {},
   "outputs": [],
   "source": [
    "def get_original_img_name(patch_name: str) -> str:\n",
    "    name,extendtion = patch_name.split('.')\n",
    "    return '_'.join(name.split('_')[:-1])+'.'+extendtion"
   ]
  },
  {
   "cell_type": "code",
   "execution_count": 10,
   "metadata": {},
   "outputs": [],
   "source": [
    "def predict(\n",
    "    dataloader : torch.utils.data.DataLoader, \n",
    "    model : torch.nn.Module\n",
    ") -> pd.DataFrame :\n",
    "    \n",
    "    result = {\n",
    "        \"patch_name\" : [],\n",
    "        \"patch_label\" : [],\n",
    "        \"benign_prob\" : [],\n",
    "        \"atypical_prob\" : [],\n",
    "        \"malignant_prob\" : []\n",
    "    }\n",
    "    \n",
    "    for paths, x, labels in tqdm(dataloader):\n",
    "        \n",
    "        y_hat = model(x)\n",
    "        y_hat = torch.nn.functional.softmax(y_hat, dim=1)\n",
    "\n",
    "        result[\"benign_prob\"].extend(y_hat[:,0].tolist())\n",
    "        result[\"atypical_prob\"].extend(y_hat[:,1].tolist())\n",
    "        result[\"malignant_prob\"].extend(y_hat[:,2].tolist())\n",
    "\n",
    "        images_names = [os.path.basename(path) for path in paths]\n",
    "\n",
    "        result[\"patch_name\"].extend(images_names)\n",
    "        result[\"patch_label\"].extend(labels.tolist())\n",
    "\n",
    "    df =  pd.DataFrame(result)\n",
    "\n",
    "    df['original_img_name'] = df[\"patch_name\"].apply(get_original_img_name)\n",
    "\n",
    "    return df\n",
    "\n"
   ]
  },
  {
   "cell_type": "code",
   "execution_count": 11,
   "metadata": {},
   "outputs": [
    {
     "data": {
      "application/vnd.jupyter.widget-view+json": {
       "model_id": "7be91645ae7447018ef561d116cdfddf",
       "version_major": 2,
       "version_minor": 0
      },
      "text/plain": [
       "  0%|          | 0/8 [00:00<?, ?it/s]"
      ]
     },
     "metadata": {},
     "output_type": "display_data"
    }
   ],
   "source": [
    "predictions_df = predict(dataloader,model)"
   ]
  },
  {
   "cell_type": "code",
   "execution_count": 12,
   "metadata": {},
   "outputs": [
    {
     "data": {
      "text/html": [
       "<div>\n",
       "<style scoped>\n",
       "    .dataframe tbody tr th:only-of-type {\n",
       "        vertical-align: middle;\n",
       "    }\n",
       "\n",
       "    .dataframe tbody tr th {\n",
       "        vertical-align: top;\n",
       "    }\n",
       "\n",
       "    .dataframe thead th {\n",
       "        text-align: right;\n",
       "    }\n",
       "</style>\n",
       "<table border=\"1\" class=\"dataframe\">\n",
       "  <thead>\n",
       "    <tr style=\"text-align: right;\">\n",
       "      <th></th>\n",
       "      <th>patch_name</th>\n",
       "      <th>patch_label</th>\n",
       "      <th>benign_prob</th>\n",
       "      <th>atypical_prob</th>\n",
       "      <th>malignant_prob</th>\n",
       "      <th>original_img_name</th>\n",
       "    </tr>\n",
       "  </thead>\n",
       "  <tbody>\n",
       "    <tr>\n",
       "      <th>0</th>\n",
       "      <td>BRACS_1286_N_40_20.png</td>\n",
       "      <td>0</td>\n",
       "      <td>0.165316</td>\n",
       "      <td>0.419924</td>\n",
       "      <td>0.414761</td>\n",
       "      <td>BRACS_1286_N_40.png</td>\n",
       "    </tr>\n",
       "    <tr>\n",
       "      <th>1</th>\n",
       "      <td>BRACS_1286_N_40_26.png</td>\n",
       "      <td>0</td>\n",
       "      <td>0.207326</td>\n",
       "      <td>0.258828</td>\n",
       "      <td>0.533847</td>\n",
       "      <td>BRACS_1286_N_40.png</td>\n",
       "    </tr>\n",
       "    <tr>\n",
       "      <th>2</th>\n",
       "      <td>BRACS_1286_N_40_50.png</td>\n",
       "      <td>0</td>\n",
       "      <td>0.251948</td>\n",
       "      <td>0.287024</td>\n",
       "      <td>0.461028</td>\n",
       "      <td>BRACS_1286_N_40.png</td>\n",
       "    </tr>\n",
       "    <tr>\n",
       "      <th>3</th>\n",
       "      <td>BRACS_1286_N_40_12.png</td>\n",
       "      <td>0</td>\n",
       "      <td>0.482690</td>\n",
       "      <td>0.173686</td>\n",
       "      <td>0.343624</td>\n",
       "      <td>BRACS_1286_N_40.png</td>\n",
       "    </tr>\n",
       "    <tr>\n",
       "      <th>4</th>\n",
       "      <td>BRACS_1286_N_40_22.png</td>\n",
       "      <td>0</td>\n",
       "      <td>0.237110</td>\n",
       "      <td>0.439699</td>\n",
       "      <td>0.323191</td>\n",
       "      <td>BRACS_1286_N_40.png</td>\n",
       "    </tr>\n",
       "  </tbody>\n",
       "</table>\n",
       "</div>"
      ],
      "text/plain": [
       "               patch_name  patch_label  benign_prob  atypical_prob  \\\n",
       "0  BRACS_1286_N_40_20.png            0     0.165316       0.419924   \n",
       "1  BRACS_1286_N_40_26.png            0     0.207326       0.258828   \n",
       "2  BRACS_1286_N_40_50.png            0     0.251948       0.287024   \n",
       "3  BRACS_1286_N_40_12.png            0     0.482690       0.173686   \n",
       "4  BRACS_1286_N_40_22.png            0     0.237110       0.439699   \n",
       "\n",
       "   malignant_prob    original_img_name  \n",
       "0        0.414761  BRACS_1286_N_40.png  \n",
       "1        0.533847  BRACS_1286_N_40.png  \n",
       "2        0.461028  BRACS_1286_N_40.png  \n",
       "3        0.343624  BRACS_1286_N_40.png  \n",
       "4        0.323191  BRACS_1286_N_40.png  "
      ]
     },
     "execution_count": 12,
     "metadata": {},
     "output_type": "execute_result"
    }
   ],
   "source": [
    "predictions_df.head()"
   ]
  },
  {
   "cell_type": "code",
   "execution_count": null,
   "metadata": {},
   "outputs": [],
   "source": [
    "class SoftVoter(torch.nn.Module):\n",
    "\n",
    "    def __init__(self, base : torch.nn.Module) -> None:\n",
    "\n",
    "        super().__init__()\n",
    "\n",
    "        self.base = base\n",
    "\n",
    "    def forward(self) -> None:\n",
    "        pass"
   ]
  }
 ],
 "metadata": {
  "kernelspec": {
   "display_name": "ml",
   "language": "python",
   "name": "python3"
  },
  "language_info": {
   "codemirror_mode": {
    "name": "ipython",
    "version": 3
   },
   "file_extension": ".py",
   "mimetype": "text/x-python",
   "name": "python",
   "nbconvert_exporter": "python",
   "pygments_lexer": "ipython3",
   "version": "3.11.7"
  },
  "orig_nbformat": 4
 },
 "nbformat": 4,
 "nbformat_minor": 2
}
