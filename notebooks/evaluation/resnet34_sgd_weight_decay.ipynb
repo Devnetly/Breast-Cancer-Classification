{
 "cells": [
  {
   "cell_type": "markdown",
   "metadata": {},
   "source": [
    "### Necessary Packages"
   ]
  },
  {
   "cell_type": "code",
   "execution_count": 1,
   "metadata": {},
   "outputs": [],
   "source": [
    "import torch\n",
    "import pandas as pd\n",
    "import numpy as np\n",
    "import sys\n",
    "import dotenv\n",
    "import os\n",
    "import torchmetrics\n",
    "import torch\n",
    "import seaborn as sns\n",
    "import matplotlib.pyplot as plt\n",
    "sys.path.append('../..')\n",
    "from src.models import ResNet34\n",
    "from torchsummary import summary\n",
    "from torch import nn\n",
    "from torch.utils.data import DataLoader\n",
    "from torchvision.datasets import ImageFolder\n",
    "from torchvision.transforms import Compose,ToTensor,Normalize\n",
    "from src.transforms import LabelMapper\n",
    "from src.utils import load_model_from_folder\n",
    "from tqdm.notebook import tqdm\n",
    "from sklearn.metrics import confusion_matrix,f1_score,accuracy_score,recall_score,precision_score\n"
   ]
  },
  {
   "cell_type": "markdown",
   "metadata": {},
   "source": [
    "### Setup the code to be device agnostic"
   ]
  },
  {
   "cell_type": "code",
   "execution_count": 2,
   "metadata": {},
   "outputs": [
    {
     "name": "stdout",
     "output_type": "stream",
     "text": [
      "cuda\n"
     ]
    }
   ],
   "source": [
    "device = torch.device(\"cuda\" if torch.cuda.is_available() else \"cpu\")\n",
    "print(device.type)"
   ]
  },
  {
   "cell_type": "markdown",
   "metadata": {},
   "source": [
    "### Load envirement variables"
   ]
  },
  {
   "cell_type": "code",
   "execution_count": 3,
   "metadata": {},
   "outputs": [
    {
     "name": "stdout",
     "output_type": "stream",
     "text": [
      "/home/abdelnour/Documents/4eme_anne/S2/projet/models\n",
      "/home/abdelnour/Documents/4eme_anne/S2/projet/data/patched\n",
      "/home/abdelnour/Documents/4eme_anne/S2/projet/histories\n",
      "/home/abdelnour/Documents/4eme_anne/S2/projet/data/patched/train\n",
      "/home/abdelnour/Documents/4eme_anne/S2/projet/data/patched/val\n",
      "/home/abdelnour/Documents/4eme_anne/S2/projet/data/patched/test\n"
     ]
    }
   ],
   "source": [
    "PATCHES_DIR = dotenv.get_key(dotenv.find_dotenv(), \"PATCHES_DIR\")\n",
    "MODELS_DIR = dotenv.get_key(dotenv.find_dotenv(), \"MODELS_DIR\")\n",
    "HISTORIES_DIR = dotenv.get_key(dotenv.find_dotenv(), \"HISTORIES_DIR\")\n",
    "TRAIN_DIR = os.path.join(PATCHES_DIR, \"train\")\n",
    "VAL_DIR = os.path.join(PATCHES_DIR, \"val\")\n",
    "TEST_DIR = os.path.join(PATCHES_DIR, \"test\")\n",
    "\n",
    "\n",
    "print(MODELS_DIR)\n",
    "print(PATCHES_DIR)\n",
    "print(HISTORIES_DIR)\n",
    "print(TRAIN_DIR)\n",
    "print(VAL_DIR)\n",
    "print(TEST_DIR)"
   ]
  },
  {
   "cell_type": "markdown",
   "metadata": {},
   "source": [
    "### Global"
   ]
  },
  {
   "cell_type": "code",
   "execution_count": 4,
   "metadata": {},
   "outputs": [],
   "source": [
    "BATCH_SIZE = 512\n",
    "NUM_WORKERS = 6\n",
    "PREFETCH_FACTOR = 2"
   ]
  },
  {
   "cell_type": "markdown",
   "metadata": {},
   "source": [
    "### Load the model"
   ]
  },
  {
   "cell_type": "code",
   "execution_count": 5,
   "metadata": {},
   "outputs": [],
   "source": [
    "model = ResNet34(n_classes=3).to(device)"
   ]
  },
  {
   "cell_type": "code",
   "execution_count": 6,
   "metadata": {},
   "outputs": [
    {
     "name": "stdout",
     "output_type": "stream",
     "text": [
      "loading weights with name : 1710957009.0609107.pt\n"
     ]
    }
   ],
   "source": [
    "weights_folder = os.path.join(MODELS_DIR, \"resnet34_sgd_weight_decay\")\n",
    "load_model_from_folder(model, weights_folder, verbose=True)"
   ]
  },
  {
   "cell_type": "code",
   "execution_count": 7,
   "metadata": {},
   "outputs": [
    {
     "name": "stdout",
     "output_type": "stream",
     "text": [
      "----------------------------------------------------------------\n",
      "        Layer (type)               Output Shape         Param #\n",
      "================================================================\n",
      "            Conv2d-1         [-1, 64, 112, 112]           9,408\n",
      "       BatchNorm2d-2         [-1, 64, 112, 112]             128\n",
      "              ReLU-3         [-1, 64, 112, 112]               0\n",
      "         MaxPool2d-4           [-1, 64, 56, 56]               0\n",
      "            Conv2d-5           [-1, 64, 56, 56]          36,864\n",
      "       BatchNorm2d-6           [-1, 64, 56, 56]             128\n",
      "              ReLU-7           [-1, 64, 56, 56]               0\n",
      "            Conv2d-8           [-1, 64, 56, 56]          36,864\n",
      "       BatchNorm2d-9           [-1, 64, 56, 56]             128\n",
      "             ReLU-10           [-1, 64, 56, 56]               0\n",
      "       BasicBlock-11           [-1, 64, 56, 56]               0\n",
      "           Conv2d-12           [-1, 64, 56, 56]          36,864\n",
      "      BatchNorm2d-13           [-1, 64, 56, 56]             128\n",
      "             ReLU-14           [-1, 64, 56, 56]               0\n",
      "           Conv2d-15           [-1, 64, 56, 56]          36,864\n",
      "      BatchNorm2d-16           [-1, 64, 56, 56]             128\n",
      "             ReLU-17           [-1, 64, 56, 56]               0\n",
      "       BasicBlock-18           [-1, 64, 56, 56]               0\n",
      "           Conv2d-19           [-1, 64, 56, 56]          36,864\n",
      "      BatchNorm2d-20           [-1, 64, 56, 56]             128\n",
      "             ReLU-21           [-1, 64, 56, 56]               0\n",
      "           Conv2d-22           [-1, 64, 56, 56]          36,864\n",
      "      BatchNorm2d-23           [-1, 64, 56, 56]             128\n",
      "             ReLU-24           [-1, 64, 56, 56]               0\n",
      "       BasicBlock-25           [-1, 64, 56, 56]               0\n",
      "           Conv2d-26          [-1, 128, 28, 28]          73,728\n",
      "      BatchNorm2d-27          [-1, 128, 28, 28]             256\n",
      "             ReLU-28          [-1, 128, 28, 28]               0\n",
      "           Conv2d-29          [-1, 128, 28, 28]         147,456\n",
      "      BatchNorm2d-30          [-1, 128, 28, 28]             256\n",
      "           Conv2d-31          [-1, 128, 28, 28]           8,192\n",
      "      BatchNorm2d-32          [-1, 128, 28, 28]             256\n",
      "             ReLU-33          [-1, 128, 28, 28]               0\n",
      "       BasicBlock-34          [-1, 128, 28, 28]               0\n",
      "           Conv2d-35          [-1, 128, 28, 28]         147,456\n",
      "      BatchNorm2d-36          [-1, 128, 28, 28]             256\n",
      "             ReLU-37          [-1, 128, 28, 28]               0\n",
      "           Conv2d-38          [-1, 128, 28, 28]         147,456\n",
      "      BatchNorm2d-39          [-1, 128, 28, 28]             256\n",
      "             ReLU-40          [-1, 128, 28, 28]               0\n",
      "       BasicBlock-41          [-1, 128, 28, 28]               0\n",
      "           Conv2d-42          [-1, 128, 28, 28]         147,456\n",
      "      BatchNorm2d-43          [-1, 128, 28, 28]             256\n",
      "             ReLU-44          [-1, 128, 28, 28]               0\n",
      "           Conv2d-45          [-1, 128, 28, 28]         147,456\n",
      "      BatchNorm2d-46          [-1, 128, 28, 28]             256\n",
      "             ReLU-47          [-1, 128, 28, 28]               0\n",
      "       BasicBlock-48          [-1, 128, 28, 28]               0\n",
      "           Conv2d-49          [-1, 128, 28, 28]         147,456\n",
      "      BatchNorm2d-50          [-1, 128, 28, 28]             256\n",
      "             ReLU-51          [-1, 128, 28, 28]               0\n",
      "           Conv2d-52          [-1, 128, 28, 28]         147,456\n",
      "      BatchNorm2d-53          [-1, 128, 28, 28]             256\n",
      "             ReLU-54          [-1, 128, 28, 28]               0\n",
      "       BasicBlock-55          [-1, 128, 28, 28]               0\n",
      "           Conv2d-56          [-1, 256, 14, 14]         294,912\n",
      "      BatchNorm2d-57          [-1, 256, 14, 14]             512\n",
      "             ReLU-58          [-1, 256, 14, 14]               0\n",
      "           Conv2d-59          [-1, 256, 14, 14]         589,824\n",
      "      BatchNorm2d-60          [-1, 256, 14, 14]             512\n",
      "           Conv2d-61          [-1, 256, 14, 14]          32,768\n",
      "      BatchNorm2d-62          [-1, 256, 14, 14]             512\n",
      "             ReLU-63          [-1, 256, 14, 14]               0\n",
      "       BasicBlock-64          [-1, 256, 14, 14]               0\n",
      "           Conv2d-65          [-1, 256, 14, 14]         589,824\n",
      "      BatchNorm2d-66          [-1, 256, 14, 14]             512\n",
      "             ReLU-67          [-1, 256, 14, 14]               0\n",
      "           Conv2d-68          [-1, 256, 14, 14]         589,824\n",
      "      BatchNorm2d-69          [-1, 256, 14, 14]             512\n",
      "             ReLU-70          [-1, 256, 14, 14]               0\n",
      "       BasicBlock-71          [-1, 256, 14, 14]               0\n",
      "           Conv2d-72          [-1, 256, 14, 14]         589,824\n",
      "      BatchNorm2d-73          [-1, 256, 14, 14]             512\n",
      "             ReLU-74          [-1, 256, 14, 14]               0\n",
      "           Conv2d-75          [-1, 256, 14, 14]         589,824\n",
      "      BatchNorm2d-76          [-1, 256, 14, 14]             512\n",
      "             ReLU-77          [-1, 256, 14, 14]               0\n",
      "       BasicBlock-78          [-1, 256, 14, 14]               0\n",
      "           Conv2d-79          [-1, 256, 14, 14]         589,824\n",
      "      BatchNorm2d-80          [-1, 256, 14, 14]             512\n",
      "             ReLU-81          [-1, 256, 14, 14]               0\n",
      "           Conv2d-82          [-1, 256, 14, 14]         589,824\n",
      "      BatchNorm2d-83          [-1, 256, 14, 14]             512\n",
      "             ReLU-84          [-1, 256, 14, 14]               0\n",
      "       BasicBlock-85          [-1, 256, 14, 14]               0\n",
      "           Conv2d-86          [-1, 256, 14, 14]         589,824\n",
      "      BatchNorm2d-87          [-1, 256, 14, 14]             512\n",
      "             ReLU-88          [-1, 256, 14, 14]               0\n",
      "           Conv2d-89          [-1, 256, 14, 14]         589,824\n",
      "      BatchNorm2d-90          [-1, 256, 14, 14]             512\n",
      "             ReLU-91          [-1, 256, 14, 14]               0\n",
      "       BasicBlock-92          [-1, 256, 14, 14]               0\n",
      "           Conv2d-93          [-1, 256, 14, 14]         589,824\n",
      "      BatchNorm2d-94          [-1, 256, 14, 14]             512\n",
      "             ReLU-95          [-1, 256, 14, 14]               0\n",
      "           Conv2d-96          [-1, 256, 14, 14]         589,824\n",
      "      BatchNorm2d-97          [-1, 256, 14, 14]             512\n",
      "             ReLU-98          [-1, 256, 14, 14]               0\n",
      "       BasicBlock-99          [-1, 256, 14, 14]               0\n",
      "          Conv2d-100            [-1, 512, 7, 7]       1,179,648\n",
      "     BatchNorm2d-101            [-1, 512, 7, 7]           1,024\n",
      "            ReLU-102            [-1, 512, 7, 7]               0\n",
      "          Conv2d-103            [-1, 512, 7, 7]       2,359,296\n",
      "     BatchNorm2d-104            [-1, 512, 7, 7]           1,024\n",
      "          Conv2d-105            [-1, 512, 7, 7]         131,072\n",
      "     BatchNorm2d-106            [-1, 512, 7, 7]           1,024\n",
      "            ReLU-107            [-1, 512, 7, 7]               0\n",
      "      BasicBlock-108            [-1, 512, 7, 7]               0\n",
      "          Conv2d-109            [-1, 512, 7, 7]       2,359,296\n",
      "     BatchNorm2d-110            [-1, 512, 7, 7]           1,024\n",
      "            ReLU-111            [-1, 512, 7, 7]               0\n",
      "          Conv2d-112            [-1, 512, 7, 7]       2,359,296\n",
      "     BatchNorm2d-113            [-1, 512, 7, 7]           1,024\n",
      "            ReLU-114            [-1, 512, 7, 7]               0\n",
      "      BasicBlock-115            [-1, 512, 7, 7]               0\n",
      "          Conv2d-116            [-1, 512, 7, 7]       2,359,296\n",
      "     BatchNorm2d-117            [-1, 512, 7, 7]           1,024\n",
      "            ReLU-118            [-1, 512, 7, 7]               0\n",
      "          Conv2d-119            [-1, 512, 7, 7]       2,359,296\n",
      "     BatchNorm2d-120            [-1, 512, 7, 7]           1,024\n",
      "            ReLU-121            [-1, 512, 7, 7]               0\n",
      "      BasicBlock-122            [-1, 512, 7, 7]               0\n",
      "AdaptiveAvgPool2d-123            [-1, 512, 1, 1]               0\n",
      "          Linear-124                    [-1, 3]           1,539\n",
      "================================================================\n",
      "Total params: 21,286,211\n",
      "Trainable params: 19,938,307\n",
      "Non-trainable params: 1,347,904\n",
      "----------------------------------------------------------------\n",
      "Input size (MB): 0.57\n",
      "Forward/backward pass size (MB): 96.28\n",
      "Params size (MB): 81.20\n",
      "Estimated Total Size (MB): 178.06\n",
      "----------------------------------------------------------------\n"
     ]
    }
   ],
   "source": [
    "summary(model, input_size=(3,224,224), device=device.type)"
   ]
  },
  {
   "cell_type": "markdown",
   "metadata": {},
   "source": [
    "### Learning graph"
   ]
  },
  {
   "cell_type": "code",
   "execution_count": 8,
   "metadata": {},
   "outputs": [
    {
     "name": "stdout",
     "output_type": "stream",
     "text": [
      "/home/abdelnour/Documents/4eme_anne/S2/projet/histories/resnet34_sgd_weight_decay\n"
     ]
    }
   ],
   "source": [
    "path = os.path.join(HISTORIES_DIR, \"resnet34_sgd_weight_decay\")\n",
    "print(path)"
   ]
  },
  {
   "cell_type": "code",
   "execution_count": 9,
   "metadata": {},
   "outputs": [],
   "source": [
    "def load_history_from_folder(path : str) -> pd.DataFrame:\n",
    "\n",
    "    files = os.listdir(path)\n",
    "    files.sort()\n",
    "\n",
    "    p = 0\n",
    "    dfs = []\n",
    "\n",
    "    for file in files:\n",
    "        df = pd.read_csv(os.path.join(path, file))\n",
    "        df[\"epoch\"] = df[\"epoch\"] + p\n",
    "        dfs.append(df)\n",
    "        p += len(df[\"epoch\"].value_counts())\n",
    "        \n",
    "    return pd.concat(dfs)"
   ]
  },
  {
   "cell_type": "code",
   "execution_count": 10,
   "metadata": {},
   "outputs": [],
   "source": [
    "history_df = load_history_from_folder(path)"
   ]
  },
  {
   "cell_type": "code",
   "execution_count": 11,
   "metadata": {},
   "outputs": [
    {
     "data": {
      "text/plain": [
       "<Axes: xlabel='epoch', ylabel='accuracy'>"
      ]
     },
     "execution_count": 11,
     "metadata": {},
     "output_type": "execute_result"
    },
    {
     "data": {
      "image/png": "[encoded data removed]",
      "text/plain": [
       "<Figure size 1500x500 with 2 Axes>"
      ]
     },
     "metadata": {},
     "output_type": "display_data"
    }
   ],
   "source": [
    "fig, (ax1, ax2) = plt.subplots(ncols=2)\n",
    "\n",
    "fig.set_size_inches(15, 5)\n",
    "\n",
    "sns.lineplot(data=history_df, x=\"epoch\", y=\"loss\", hue=\"split\", ax=ax1)\n",
    "sns.lineplot(data=history_df, x=\"epoch\", y=\"accuracy\", hue=\"split\", ax=ax2)"
   ]
  },
  {
   "cell_type": "markdown",
   "metadata": {},
   "source": [
    "### Data Loading"
   ]
  },
  {
   "cell_type": "code",
   "execution_count": 12,
   "metadata": {},
   "outputs": [],
   "source": [
    "label_mapper = LabelMapper({\n",
    "    0:0, # 0 is the label for benign (BY)\n",
    "    1:0, \n",
    "    2:0,\n",
    "    3:1, # 1 is the label for atypical (AT)\n",
    "    4:1,\n",
    "    5:2, # 2 is the label for malignant (MT)\n",
    "    6:2,\n",
    "})"
   ]
  },
  {
   "cell_type": "code",
   "execution_count": 13,
   "metadata": {},
   "outputs": [],
   "source": [
    "class RoIDataset(ImageFolder):\n",
    "\n",
    "    def __getitem__(self, index: int):\n",
    "        x,y = super().__getitem__(index)\n",
    "        path = self.imgs[index][0]\n",
    "        return path, x, y"
   ]
  },
  {
   "cell_type": "code",
   "execution_count": 14,
   "metadata": {},
   "outputs": [],
   "source": [
    "dataset = RoIDataset(\n",
    "    root=TEST_DIR,\n",
    "    target_transform=label_mapper,\n",
    "    transform=Compose([\n",
    "        ToTensor(),\n",
    "    ]),\n",
    ")"
   ]
  },
  {
   "cell_type": "code",
   "execution_count": 15,
   "metadata": {},
   "outputs": [],
   "source": [
    "loader = DataLoader(dataset=dataset, batch_size=BATCH_SIZE,num_workers=NUM_WORKERS,prefetch_factor=PREFETCH_FACTOR)"
   ]
  },
  {
   "cell_type": "markdown",
   "metadata": {},
   "source": [
    "### Prediciting"
   ]
  },
  {
   "cell_type": "code",
   "execution_count": 16,
   "metadata": {},
   "outputs": [],
   "source": [
    "def predict(\n",
    "    model : nn.Module,\n",
    "    dataloader : DataLoader\n",
    ") -> tuple[pd.DataFrame, list[str]]:\n",
    "    \n",
    "    Y = []\n",
    "    paths = []\n",
    "    labels = []\n",
    "    acc = 0\n",
    "\n",
    "    model.eval()\n",
    "    \n",
    "    with torch.no_grad():\n",
    "        \n",
    "        for path,x,y in tqdm(dataloader):\n",
    "\n",
    "            x,y = x.to(device),y.to(device)\n",
    "\n",
    "            y_hat = model(x)\n",
    "            y_hat = torch.nn.functional.softmax(y_hat, dim=1)\n",
    "\n",
    "            acc += torchmetrics.functional.accuracy(y_hat, y, task='multiclass',num_classes=3)\n",
    "\n",
    "            Y.append(y_hat.cpu())\n",
    "            paths.extend(path)\n",
    "            labels.extend(y.cpu().tolist())\n",
    "\n",
    "    return paths,torch.vstack(Y),labels"
   ]
  },
  {
   "cell_type": "code",
   "execution_count": 17,
   "metadata": {},
   "outputs": [
    {
     "data": {
      "application/vnd.jupyter.widget-view+json": {
       "model_id": "91ff432edb644576996bfbced6e3d103",
       "version_major": 2,
       "version_minor": 0
      },
      "text/plain": [
       "  0%|          | 0/78 [00:00<?, ?it/s]"
      ]
     },
     "metadata": {},
     "output_type": "display_data"
    }
   ],
   "source": [
    "paths,y_hat,y = predict(model, loader)"
   ]
  },
  {
   "cell_type": "code",
   "execution_count": 18,
   "metadata": {},
   "outputs": [],
   "source": [
    "def get_roi_name(patch_name : str) -> str:\n",
    "    name, ext = os.path.splitext(patch_name)\n",
    "    roi_name = '_'.join(name.split('_')[:-1])\n",
    "    return roi_name + ext"
   ]
  },
  {
   "cell_type": "code",
   "execution_count": 19,
   "metadata": {},
   "outputs": [],
   "source": [
    "def create_df(paths : list[str],labels : list[int], y_hat : torch.Tensor) -> pd.DataFrame:\n",
    "\n",
    "    df = pd.DataFrame()\n",
    "    df[\"patch_name\"] = [os.path.basename(path) for path in paths]\n",
    "    df[\"label\"] = labels\n",
    "\n",
    "    df[\"roi\"] = df[\"patch_name\"].apply(get_roi_name)\n",
    "\n",
    "    df[\"benign\"] = y_hat[:,0].tolist()\n",
    "    df[\"atypical\"] = y_hat[:,1].tolist()\n",
    "    df[\"malignant\"] = y_hat[:,2].tolist()\n",
    "\n",
    "    df['predicted_label'] = torch.argmax(y_hat, dim=1).tolist()\n",
    "\n",
    "    return df"
   ]
  },
  {
   "cell_type": "code",
   "execution_count": 20,
   "metadata": {},
   "outputs": [],
   "source": [
    "df = create_df(paths,y, y_hat)"
   ]
  },
  {
   "cell_type": "code",
   "execution_count": 21,
   "metadata": {},
   "outputs": [
    {
     "data": {
      "text/html": [
       "<div>\n",
       "<style scoped>\n",
       "    .dataframe tbody tr th:only-of-type {\n",
       "        vertical-align: middle;\n",
       "    }\n",
       "\n",
       "    .dataframe tbody tr th {\n",
       "        vertical-align: top;\n",
       "    }\n",
       "\n",
       "    .dataframe thead th {\n",
       "        text-align: right;\n",
       "    }\n",
       "</style>\n",
       "<table border=\"1\" class=\"dataframe\">\n",
       "  <thead>\n",
       "    <tr style=\"text-align: right;\">\n",
       "      <th></th>\n",
       "      <th>patch_name</th>\n",
       "      <th>label</th>\n",
       "      <th>roi</th>\n",
       "      <th>benign</th>\n",
       "      <th>atypical</th>\n",
       "      <th>malignant</th>\n",
       "      <th>predicted_label</th>\n",
       "    </tr>\n",
       "  </thead>\n",
       "  <tbody>\n",
       "    <tr>\n",
       "      <th>0</th>\n",
       "      <td>BRACS_1286_N_40_0.png</td>\n",
       "      <td>0</td>\n",
       "      <td>BRACS_1286_N_40.png</td>\n",
       "      <td>0.173170</td>\n",
       "      <td>0.246245</td>\n",
       "      <td>0.580585</td>\n",
       "      <td>2</td>\n",
       "    </tr>\n",
       "    <tr>\n",
       "      <th>1</th>\n",
       "      <td>BRACS_1286_N_40_1.png</td>\n",
       "      <td>0</td>\n",
       "      <td>BRACS_1286_N_40.png</td>\n",
       "      <td>0.417528</td>\n",
       "      <td>0.391633</td>\n",
       "      <td>0.190838</td>\n",
       "      <td>0</td>\n",
       "    </tr>\n",
       "    <tr>\n",
       "      <th>2</th>\n",
       "      <td>BRACS_1286_N_40_10.png</td>\n",
       "      <td>0</td>\n",
       "      <td>BRACS_1286_N_40.png</td>\n",
       "      <td>0.183672</td>\n",
       "      <td>0.182671</td>\n",
       "      <td>0.633656</td>\n",
       "      <td>2</td>\n",
       "    </tr>\n",
       "    <tr>\n",
       "      <th>3</th>\n",
       "      <td>BRACS_1286_N_40_11.png</td>\n",
       "      <td>0</td>\n",
       "      <td>BRACS_1286_N_40.png</td>\n",
       "      <td>0.594195</td>\n",
       "      <td>0.263637</td>\n",
       "      <td>0.142168</td>\n",
       "      <td>0</td>\n",
       "    </tr>\n",
       "    <tr>\n",
       "      <th>4</th>\n",
       "      <td>BRACS_1286_N_40_12.png</td>\n",
       "      <td>0</td>\n",
       "      <td>BRACS_1286_N_40.png</td>\n",
       "      <td>0.320513</td>\n",
       "      <td>0.442216</td>\n",
       "      <td>0.237270</td>\n",
       "      <td>1</td>\n",
       "    </tr>\n",
       "  </tbody>\n",
       "</table>\n",
       "</div>"
      ],
      "text/plain": [
       "               patch_name  label                  roi    benign  atypical  \\\n",
       "0   BRACS_1286_N_40_0.png      0  BRACS_1286_N_40.png  0.173170  0.246245   \n",
       "1   BRACS_1286_N_40_1.png      0  BRACS_1286_N_40.png  0.417528  0.391633   \n",
       "2  BRACS_1286_N_40_10.png      0  BRACS_1286_N_40.png  0.183672  0.182671   \n",
       "3  BRACS_1286_N_40_11.png      0  BRACS_1286_N_40.png  0.594195  0.263637   \n",
       "4  BRACS_1286_N_40_12.png      0  BRACS_1286_N_40.png  0.320513  0.442216   \n",
       "\n",
       "   malignant  predicted_label  \n",
       "0   0.580585                2  \n",
       "1   0.190838                0  \n",
       "2   0.633656                2  \n",
       "3   0.142168                0  \n",
       "4   0.237270                1  "
      ]
     },
     "execution_count": 21,
     "metadata": {},
     "output_type": "execute_result"
    }
   ],
   "source": [
    "df.head()"
   ]
  },
  {
   "cell_type": "markdown",
   "metadata": {},
   "source": [
    "### Predictions analysis (patches persepective)"
   ]
  },
  {
   "cell_type": "code",
   "execution_count": 22,
   "metadata": {},
   "outputs": [],
   "source": [
    "def make_metric(metric,**kwargs): \n",
    "\n",
    "    def _metric(y, y_hat):\n",
    "        kwargs[\"y_true\"] = y\n",
    "        kwargs[\"y_pred\"] = y_hat\n",
    "        return metric(**kwargs)\n",
    "    \n",
    "    return _metric"
   ]
  },
  {
   "cell_type": "code",
   "execution_count": 23,
   "metadata": {},
   "outputs": [],
   "source": [
    "metrics= {\n",
    "    \"accuracy\" : accuracy_score,\n",
    "    \"precision_macro\" : make_metric(precision_score, average=\"macro\"),\n",
    "    \"precision_micro\" : make_metric(precision_score, average=\"micro\"),\n",
    "    \"recall_macro\" : make_metric(recall_score, average=\"macro\"),\n",
    "    \"recall_micro\" : make_metric(recall_score, average=\"micro\"),\n",
    "    \"f1_macro\" : make_metric(f1_score, average=\"macro\"),\n",
    "    \"f1_micro\" : make_metric(f1_score, average=\"micro\")\n",
    "}"
   ]
  },
  {
   "cell_type": "code",
   "execution_count": 24,
   "metadata": {},
   "outputs": [],
   "source": [
    "def compute_metrics(\n",
    "    metrics : dict, \n",
    "    y : np.ndarray, \n",
    "    y_hat : np.ndarray\n",
    ") -> pd.Series:\n",
    "\n",
    "    results = {}\n",
    "\n",
    "    for name, metric in metrics.items():\n",
    "        results[name] = metric(y, y_hat)\n",
    "\n",
    "    return pd.Series(results)"
   ]
  },
  {
   "cell_type": "code",
   "execution_count": 25,
   "metadata": {},
   "outputs": [
    {
     "data": {
      "text/plain": [
       "accuracy           0.624060\n",
       "precision_macro    0.548579\n",
       "precision_micro    0.624060\n",
       "recall_macro       0.534668\n",
       "recall_micro       0.624060\n",
       "f1_macro           0.537394\n",
       "f1_micro           0.624060\n",
       "dtype: float64"
      ]
     },
     "execution_count": 25,
     "metadata": {},
     "output_type": "execute_result"
    }
   ],
   "source": [
    "compute_metrics(metrics, df[\"label\"], df[\"predicted_label\"])"
   ]
  },
  {
   "cell_type": "code",
   "execution_count": 26,
   "metadata": {},
   "outputs": [
    {
     "data": {
      "text/plain": [
       "<Axes: >"
      ]
     },
     "execution_count": 26,
     "metadata": {},
     "output_type": "execute_result"
    },
    {
     "data": {
      "image/png": "[encoded data removed]",
      "text/plain": [
       "<Figure size 640x480 with 2 Axes>"
      ]
     },
     "metadata": {},
     "output_type": "display_data"
    }
   ],
   "source": [
    "cm = confusion_matrix(df[\"label\"], df[\"predicted_label\"])\n",
    "sns.heatmap(data=cm,annot=True,fmt=',d',cmap='Blues')"
   ]
  },
  {
   "cell_type": "markdown",
   "metadata": {},
   "source": [
    "### Predictions analysis (Roi persepective, softvoting)"
   ]
  },
  {
   "cell_type": "code",
   "execution_count": 27,
   "metadata": {},
   "outputs": [],
   "source": [
    "soft_df = df[[\"label\",\"roi\",\"benign\",\"atypical\",\"malignant\"]] \\\n",
    "    .groupby(by=[\"label\",\"roi\"]) \\\n",
    "    .mean() \\\n",
    "    .reset_index()"
   ]
  },
  {
   "cell_type": "code",
   "execution_count": 28,
   "metadata": {},
   "outputs": [
    {
     "data": {
      "text/html": [
       "<div>\n",
       "<style scoped>\n",
       "    .dataframe tbody tr th:only-of-type {\n",
       "        vertical-align: middle;\n",
       "    }\n",
       "\n",
       "    .dataframe tbody tr th {\n",
       "        vertical-align: top;\n",
       "    }\n",
       "\n",
       "    .dataframe thead th {\n",
       "        text-align: right;\n",
       "    }\n",
       "</style>\n",
       "<table border=\"1\" class=\"dataframe\">\n",
       "  <thead>\n",
       "    <tr style=\"text-align: right;\">\n",
       "      <th></th>\n",
       "      <th>label</th>\n",
       "      <th>roi</th>\n",
       "      <th>benign</th>\n",
       "      <th>atypical</th>\n",
       "      <th>malignant</th>\n",
       "    </tr>\n",
       "  </thead>\n",
       "  <tbody>\n",
       "    <tr>\n",
       "      <th>0</th>\n",
       "      <td>0</td>\n",
       "      <td>BRACS_1228_UDH_2.png</td>\n",
       "      <td>0.127220</td>\n",
       "      <td>0.709678</td>\n",
       "      <td>0.163102</td>\n",
       "    </tr>\n",
       "    <tr>\n",
       "      <th>1</th>\n",
       "      <td>0</td>\n",
       "      <td>BRACS_1284_UDH_4.png</td>\n",
       "      <td>0.299982</td>\n",
       "      <td>0.298009</td>\n",
       "      <td>0.402010</td>\n",
       "    </tr>\n",
       "    <tr>\n",
       "      <th>2</th>\n",
       "      <td>0</td>\n",
       "      <td>BRACS_1286_N_40.png</td>\n",
       "      <td>0.329738</td>\n",
       "      <td>0.375016</td>\n",
       "      <td>0.295245</td>\n",
       "    </tr>\n",
       "    <tr>\n",
       "      <th>3</th>\n",
       "      <td>0</td>\n",
       "      <td>BRACS_1286_PB_21.png</td>\n",
       "      <td>0.358333</td>\n",
       "      <td>0.320266</td>\n",
       "      <td>0.321401</td>\n",
       "    </tr>\n",
       "    <tr>\n",
       "      <th>4</th>\n",
       "      <td>0</td>\n",
       "      <td>BRACS_1286_PB_5.png</td>\n",
       "      <td>0.272306</td>\n",
       "      <td>0.346460</td>\n",
       "      <td>0.381233</td>\n",
       "    </tr>\n",
       "  </tbody>\n",
       "</table>\n",
       "</div>"
      ],
      "text/plain": [
       "   label                   roi    benign  atypical  malignant\n",
       "0      0  BRACS_1228_UDH_2.png  0.127220  0.709678   0.163102\n",
       "1      0  BRACS_1284_UDH_4.png  0.299982  0.298009   0.402010\n",
       "2      0   BRACS_1286_N_40.png  0.329738  0.375016   0.295245\n",
       "3      0  BRACS_1286_PB_21.png  0.358333  0.320266   0.321401\n",
       "4      0   BRACS_1286_PB_5.png  0.272306  0.346460   0.381233"
      ]
     },
     "execution_count": 28,
     "metadata": {},
     "output_type": "execute_result"
    }
   ],
   "source": [
    "soft_df.head()"
   ]
  },
  {
   "cell_type": "code",
   "execution_count": 29,
   "metadata": {},
   "outputs": [],
   "source": [
    "soft_df[\"predicted_label\"] = np.argmax(soft_df[['benign','atypical','malignant']].values, axis=1)"
   ]
  },
  {
   "cell_type": "code",
   "execution_count": 30,
   "metadata": {},
   "outputs": [
    {
     "data": {
      "text/html": [
       "<div>\n",
       "<style scoped>\n",
       "    .dataframe tbody tr th:only-of-type {\n",
       "        vertical-align: middle;\n",
       "    }\n",
       "\n",
       "    .dataframe tbody tr th {\n",
       "        vertical-align: top;\n",
       "    }\n",
       "\n",
       "    .dataframe thead th {\n",
       "        text-align: right;\n",
       "    }\n",
       "</style>\n",
       "<table border=\"1\" class=\"dataframe\">\n",
       "  <thead>\n",
       "    <tr style=\"text-align: right;\">\n",
       "      <th></th>\n",
       "      <th>label</th>\n",
       "      <th>roi</th>\n",
       "      <th>benign</th>\n",
       "      <th>atypical</th>\n",
       "      <th>malignant</th>\n",
       "      <th>predicted_label</th>\n",
       "    </tr>\n",
       "  </thead>\n",
       "  <tbody>\n",
       "    <tr>\n",
       "      <th>0</th>\n",
       "      <td>0</td>\n",
       "      <td>BRACS_1228_UDH_2.png</td>\n",
       "      <td>0.127220</td>\n",
       "      <td>0.709678</td>\n",
       "      <td>0.163102</td>\n",
       "      <td>1</td>\n",
       "    </tr>\n",
       "    <tr>\n",
       "      <th>1</th>\n",
       "      <td>0</td>\n",
       "      <td>BRACS_1284_UDH_4.png</td>\n",
       "      <td>0.299982</td>\n",
       "      <td>0.298009</td>\n",
       "      <td>0.402010</td>\n",
       "      <td>2</td>\n",
       "    </tr>\n",
       "    <tr>\n",
       "      <th>2</th>\n",
       "      <td>0</td>\n",
       "      <td>BRACS_1286_N_40.png</td>\n",
       "      <td>0.329738</td>\n",
       "      <td>0.375016</td>\n",
       "      <td>0.295245</td>\n",
       "      <td>1</td>\n",
       "    </tr>\n",
       "    <tr>\n",
       "      <th>3</th>\n",
       "      <td>0</td>\n",
       "      <td>BRACS_1286_PB_21.png</td>\n",
       "      <td>0.358333</td>\n",
       "      <td>0.320266</td>\n",
       "      <td>0.321401</td>\n",
       "      <td>0</td>\n",
       "    </tr>\n",
       "    <tr>\n",
       "      <th>4</th>\n",
       "      <td>0</td>\n",
       "      <td>BRACS_1286_PB_5.png</td>\n",
       "      <td>0.272306</td>\n",
       "      <td>0.346460</td>\n",
       "      <td>0.381233</td>\n",
       "      <td>2</td>\n",
       "    </tr>\n",
       "  </tbody>\n",
       "</table>\n",
       "</div>"
      ],
      "text/plain": [
       "   label                   roi    benign  atypical  malignant  predicted_label\n",
       "0      0  BRACS_1228_UDH_2.png  0.127220  0.709678   0.163102                1\n",
       "1      0  BRACS_1284_UDH_4.png  0.299982  0.298009   0.402010                2\n",
       "2      0   BRACS_1286_N_40.png  0.329738  0.375016   0.295245                1\n",
       "3      0  BRACS_1286_PB_21.png  0.358333  0.320266   0.321401                0\n",
       "4      0   BRACS_1286_PB_5.png  0.272306  0.346460   0.381233                2"
      ]
     },
     "execution_count": 30,
     "metadata": {},
     "output_type": "execute_result"
    }
   ],
   "source": [
    "soft_df.head()"
   ]
  },
  {
   "cell_type": "code",
   "execution_count": 31,
   "metadata": {},
   "outputs": [
    {
     "data": {
      "text/plain": [
       "accuracy           0.538596\n",
       "precision_macro    0.608282\n",
       "precision_micro    0.538596\n",
       "recall_macro       0.561374\n",
       "recall_micro       0.538596\n",
       "f1_macro           0.520507\n",
       "f1_micro           0.538596\n",
       "dtype: float64"
      ]
     },
     "execution_count": 31,
     "metadata": {},
     "output_type": "execute_result"
    }
   ],
   "source": [
    "compute_metrics(metrics, soft_df[\"label\"], soft_df[\"predicted_label\"])"
   ]
  },
  {
   "cell_type": "code",
   "execution_count": 32,
   "metadata": {},
   "outputs": [
    {
     "data": {
      "text/plain": [
       "<Axes: >"
      ]
     },
     "execution_count": 32,
     "metadata": {},
     "output_type": "execute_result"
    },
    {
     "data": {
      "image/png": "[encoded data removed]",
      "text/plain": [
       "<Figure size 640x480 with 2 Axes>"
      ]
     },
     "metadata": {},
     "output_type": "display_data"
    }
   ],
   "source": [
    "cm = confusion_matrix(soft_df[\"label\"], soft_df[\"predicted_label\"])\n",
    "sns.heatmap(data=cm,annot=True,fmt=',d',cmap='Blues')"
   ]
  },
  {
   "cell_type": "markdown",
   "metadata": {},
   "source": [
    "### Predictions analysis (Roi persepective, hardvoting)"
   ]
  },
  {
   "cell_type": "code",
   "execution_count": 33,
   "metadata": {},
   "outputs": [],
   "source": [
    "def count(x:np.ndarray) -> float:\n",
    "    values, counts = np.unique(x, return_counts=True)\n",
    "    return values[counts.argmax()]\n"
   ]
  },
  {
   "cell_type": "code",
   "execution_count": 34,
   "metadata": {},
   "outputs": [],
   "source": [
    "hard_df = df[[\"label\",\"roi\",\"predicted_label\"]] \\\n",
    "    .groupby(by=[\"label\",\"roi\"]) \\\n",
    "    .agg(count) \\\n",
    "    .reset_index()"
   ]
  },
  {
   "cell_type": "code",
   "execution_count": 35,
   "metadata": {},
   "outputs": [
    {
     "data": {
      "text/html": [
       "<div>\n",
       "<style scoped>\n",
       "    .dataframe tbody tr th:only-of-type {\n",
       "        vertical-align: middle;\n",
       "    }\n",
       "\n",
       "    .dataframe tbody tr th {\n",
       "        vertical-align: top;\n",
       "    }\n",
       "\n",
       "    .dataframe thead th {\n",
       "        text-align: right;\n",
       "    }\n",
       "</style>\n",
       "<table border=\"1\" class=\"dataframe\">\n",
       "  <thead>\n",
       "    <tr style=\"text-align: right;\">\n",
       "      <th></th>\n",
       "      <th>label</th>\n",
       "      <th>roi</th>\n",
       "      <th>predicted_label</th>\n",
       "    </tr>\n",
       "  </thead>\n",
       "  <tbody>\n",
       "    <tr>\n",
       "      <th>0</th>\n",
       "      <td>0</td>\n",
       "      <td>BRACS_1228_UDH_2.png</td>\n",
       "      <td>1</td>\n",
       "    </tr>\n",
       "    <tr>\n",
       "      <th>1</th>\n",
       "      <td>0</td>\n",
       "      <td>BRACS_1284_UDH_4.png</td>\n",
       "      <td>2</td>\n",
       "    </tr>\n",
       "    <tr>\n",
       "      <th>2</th>\n",
       "      <td>0</td>\n",
       "      <td>BRACS_1286_N_40.png</td>\n",
       "      <td>1</td>\n",
       "    </tr>\n",
       "    <tr>\n",
       "      <th>3</th>\n",
       "      <td>0</td>\n",
       "      <td>BRACS_1286_PB_21.png</td>\n",
       "      <td>0</td>\n",
       "    </tr>\n",
       "    <tr>\n",
       "      <th>4</th>\n",
       "      <td>0</td>\n",
       "      <td>BRACS_1286_PB_5.png</td>\n",
       "      <td>2</td>\n",
       "    </tr>\n",
       "  </tbody>\n",
       "</table>\n",
       "</div>"
      ],
      "text/plain": [
       "   label                   roi  predicted_label\n",
       "0      0  BRACS_1228_UDH_2.png                1\n",
       "1      0  BRACS_1284_UDH_4.png                2\n",
       "2      0   BRACS_1286_N_40.png                1\n",
       "3      0  BRACS_1286_PB_21.png                0\n",
       "4      0   BRACS_1286_PB_5.png                2"
      ]
     },
     "execution_count": 35,
     "metadata": {},
     "output_type": "execute_result"
    }
   ],
   "source": [
    "hard_df.head()"
   ]
  },
  {
   "cell_type": "code",
   "execution_count": 36,
   "metadata": {},
   "outputs": [
    {
     "data": {
      "text/plain": [
       "accuracy           0.557895\n",
       "precision_macro    0.608191\n",
       "precision_micro    0.557895\n",
       "recall_macro       0.573904\n",
       "recall_micro       0.557895\n",
       "f1_macro           0.539023\n",
       "f1_micro           0.557895\n",
       "dtype: float64"
      ]
     },
     "execution_count": 36,
     "metadata": {},
     "output_type": "execute_result"
    }
   ],
   "source": [
    "compute_metrics(metrics, hard_df[\"label\"], hard_df[\"predicted_label\"])"
   ]
  },
  {
   "cell_type": "code",
   "execution_count": 37,
   "metadata": {},
   "outputs": [
    {
     "data": {
      "text/plain": [
       "<Axes: >"
      ]
     },
     "execution_count": 37,
     "metadata": {},
     "output_type": "execute_result"
    },
    {
     "data": {
      "image/png": "[encoded data removed]",
      "text/plain": [
       "<Figure size 640x480 with 2 Axes>"
      ]
     },
     "metadata": {},
     "output_type": "display_data"
    }
   ],
   "source": [
    "cm = confusion_matrix(hard_df[\"label\"], hard_df[\"predicted_label\"])\n",
    "sns.heatmap(data=cm,annot=True,fmt=',d',cmap='Blues')"
   ]
  }
 ],
 "metadata": {
  "kernelspec": {
   "display_name": "ml",
   "language": "python",
   "name": "python3"
  },
  "language_info": {
   "codemirror_mode": {
    "name": "ipython",
    "version": 3
   },
   "file_extension": ".py",
   "mimetype": "text/x-python",
   "name": "python",
   "nbconvert_exporter": "python",
   "pygments_lexer": "ipython3",
   "version": "3.12.2"
  },
  "orig_nbformat": 4
 },
 "nbformat": 4,
 "nbformat_minor": 2
}
