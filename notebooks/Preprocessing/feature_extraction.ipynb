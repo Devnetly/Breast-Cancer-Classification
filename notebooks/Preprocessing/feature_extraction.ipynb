{
 "cells": [
  {
   "cell_type": "code",
   "execution_count": 12,
   "metadata": {},
   "outputs": [
    {
     "name": "stdout",
     "output_type": "stream",
     "text": [
      "D:\\Benya\\Downloads\\openslide-win64-20231011\\openslide-win64-20231011\\bin\n"
     ]
    }
   ],
   "source": [
    "# The path can also be read from a config file, etc.\n",
    "import dotenv\n",
    "OPENSLIDE_PATH = dotenv.get_key(dotenv.find_dotenv(), \"OPENSLIDE_PATH\")\n",
    "print(OPENSLIDE_PATH)"
   ]
  },
  {
   "cell_type": "code",
   "execution_count": 13,
   "metadata": {},
   "outputs": [],
   "source": [
    "import sys\n",
    "import torch\n",
    "sys.path.append('../..')\n",
    "from src.models import ResNet34\n",
    "from torchvision.transforms import ToTensor\n",
    "from torch import nn,Tensor\n",
    "from tqdm import tqdm\n",
    "from itertools import product\n",
    "import os\n",
    "#if on linux just import openslide directly\n",
    "if hasattr(os, 'add_dll_directory'):\n",
    "    # Windows\n",
    "    with os.add_dll_directory(OPENSLIDE_PATH):\n",
    "        import openslide\n",
    "        from openslide import open_slide\n",
    "        from openslide.deepzoom import DeepZoomGenerator\n",
    "else:\n",
    "    import openslide\n",
    "    from openslide import open_slide\n",
    "    from openslide.deepzoom import DeepZoomGenerator"
   ]
  },
  {
   "cell_type": "code",
   "execution_count": 14,
   "metadata": {},
   "outputs": [],
   "source": [
    "WSI_PATH = \"D:\\\\AIDS\\\\S2\\\\Project\\\\Dataset\\\\WSI\\\\BRACS_1003694.svs\""
   ]
  },
  {
   "cell_type": "code",
   "execution_count": 15,
   "metadata": {},
   "outputs": [
    {
     "name": "stdout",
     "output_type": "stream",
     "text": [
      "device = cuda\n"
     ]
    }
   ],
   "source": [
    "device = \"cuda\" if torch.cuda.is_available() else \"cpu\"\n",
    "\n",
    "print(f\"device = {device}\")"
   ]
  },
  {
   "cell_type": "code",
   "execution_count": 16,
   "metadata": {},
   "outputs": [],
   "source": [
    "patch = 224\n",
    "\n",
    "model = ResNet34(n_classes=3).to(device)"
   ]
  },
  {
   "cell_type": "code",
   "execution_count": 17,
   "metadata": {},
   "outputs": [],
   "source": [
    "def get_vector(model : nn.Module, patch : Tensor):\n",
    "\n",
    "    y = model.conv1(patch)\n",
    "    y = model.bn1(y)\n",
    "    y = model.relu(y)\n",
    "    y = model.maxpool(y)\n",
    "    y = model.layer1(y)\n",
    "    y = model.layer2(y)\n",
    "    y = model.layer3(y)\n",
    "    y = model.layer4(y)\n",
    "    y = model.avgpool(y)\n",
    "    y = torch.flatten(y)\n",
    "\n",
    "    return y"
   ]
  },
  {
   "cell_type": "code",
   "execution_count": 18,
   "metadata": {},
   "outputs": [
    {
     "name": "stdout",
     "output_type": "stream",
     "text": [
      "((125663, 41933), (31415, 10483), (7853, 2620), (3926, 1310))\n"
     ]
    }
   ],
   "source": [
    "slide = open_slide(WSI_PATH)\n",
    "print(slide.level_dimensions)\n",
    "tiles = DeepZoomGenerator(slide,tile_size=patch,overlap=0,limit_bounds=False)"
   ]
  },
  {
   "cell_type": "code",
   "execution_count": 19,
   "metadata": {},
   "outputs": [
    {
     "name": "stdout",
     "output_type": "stream",
     "text": [
      "561 188\n"
     ]
    }
   ],
   "source": [
    "W, H = tiles.level_tiles[tiles.level_count - 1]\n",
    "\n",
    "print(W,H)"
   ]
  },
  {
   "cell_type": "code",
   "execution_count": 20,
   "metadata": {},
   "outputs": [],
   "source": [
    "to_tensor = ToTensor()\n",
    "\n",
    "model.eval()\n",
    "\n",
    "batch_size = 256\n",
    "\n",
    "vecs = []\n",
    "\n",
    "batch = []\n",
    "\n",
    "i = 0"
   ]
  },
  {
   "cell_type": "code",
   "execution_count": 23,
   "metadata": {},
   "outputs": [
    {
     "name": "stderr",
     "output_type": "stream",
     "text": [
      "  0%|          | 0/104720 [00:00<?, ?it/s]"
     ]
    },
    {
     "name": "stdout",
     "output_type": "stream",
     "text": [
      "<class 'torch.Tensor'>\n"
     ]
    },
    {
     "name": "stderr",
     "output_type": "stream",
     "text": [
      "\n"
     ]
    },
    {
     "ename": "TypeError",
     "evalue": "stack(): argument 'tensors' (position 1) must be tuple of Tensors, not Tensor",
     "output_type": "error",
     "traceback": [
      "\u001b[1;31m---------------------------------------------------------------------------\u001b[0m",
      "\u001b[1;31mTypeError\u001b[0m                                 Traceback (most recent call last)",
      "Cell \u001b[1;32mIn[23], line 11\u001b[0m\n\u001b[0;32m      9\u001b[0m \u001b[38;5;28;01melse\u001b[39;00m:\n\u001b[0;32m     10\u001b[0m     \u001b[38;5;28mprint\u001b[39m(\u001b[38;5;28mtype\u001b[39m(batch))\n\u001b[1;32m---> 11\u001b[0m     batch \u001b[38;5;241m=\u001b[39m \u001b[43mtorch\u001b[49m\u001b[38;5;241;43m.\u001b[39;49m\u001b[43mstack\u001b[49m\u001b[43m(\u001b[49m\u001b[43mbatch\u001b[49m\u001b[43m)\u001b[49m\u001b[38;5;241m.\u001b[39mto(device)\n\u001b[0;32m     12\u001b[0m     vec \u001b[38;5;241m=\u001b[39m get_vector(model\u001b[38;5;241m.\u001b[39mresnet ,batch)\n\u001b[0;32m     13\u001b[0m     vecs\u001b[38;5;241m.\u001b[39mappend(vec)\n",
      "\u001b[1;31mTypeError\u001b[0m: stack(): argument 'tensors' (position 1) must be tuple of Tensors, not Tensor"
     ]
    }
   ],
   "source": [
    "with torch.inference_mode():\n",
    "\n",
    "    for w,h in tqdm(list(product(range(W - 1),range(H - 1)))):\n",
    "\n",
    "        if len(batch) < batch_size:\n",
    "            tile = tiles.get_tile(level=tiles.level_count-1,address=(w,h))\n",
    "            tile = to_tensor(tile)\n",
    "            batch.append(tile)\n",
    "        else:\n",
    "            print(type(batch))\n",
    "            batch = torch.stack(batch).to(device)\n",
    "            vec = get_vector(model.resnet ,batch)\n",
    "            vecs.append(vec)\n",
    "            batch = []"
   ]
  },
  {
   "cell_type": "code",
   "execution_count": null,
   "metadata": {},
   "outputs": [],
   "source": []
  }
 ],
 "metadata": {
  "kernelspec": {
   "display_name": "prj",
   "language": "python",
   "name": "python3"
  },
  "language_info": {
   "codemirror_mode": {
    "name": "ipython",
    "version": 3
   },
   "file_extension": ".py",
   "mimetype": "text/x-python",
   "name": "python",
   "nbconvert_exporter": "python",
   "pygments_lexer": "ipython3",
   "version": "3.9.18"
  }
 },
 "nbformat": 4,
 "nbformat_minor": 2
}
